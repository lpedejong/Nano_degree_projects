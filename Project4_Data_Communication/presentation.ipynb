{
 "cells": [
  {
   "cell_type": "markdown",
   "id": "static-developer",
   "metadata": {},
   "source": [
    "# Communicate a data set\n",
    "\n",
    "**project for Udacity Nanodegree by Léon de Jong**\n",
    "\n",
    "Investigating the Prosper Load dataset."
   ]
  },
  {
   "cell_type": "code",
   "execution_count": 1,
   "id": "photographic-effort",
   "metadata": {},
   "outputs": [],
   "source": [
    "#import necessary modules\n",
    "\n",
    "import numpy as np\n",
    "import pandas as pd\n",
    "import matplotlib.pyplot as plt\n",
    "import seaborn as sb\n",
    "from matplotlib import rcParams\n",
    "%matplotlib inline\n",
    "\n",
    "# suppress warnings from final output\n",
    "import warnings\n",
    "warnings.simplefilter(\"ignore\")"
   ]
  },
  {
   "cell_type": "code",
   "execution_count": 2,
   "id": "asian-billy",
   "metadata": {},
   "outputs": [],
   "source": [
    "df_loan = pd.read_csv('prosperLoanData.csv')"
   ]
  },
  {
   "cell_type": "code",
   "execution_count": null,
   "id": "wireless-metallic",
   "metadata": {},
   "outputs": [],
   "source": [
    "#necessary transformations\n",
    "#selection of variables for further analysis\n",
    "voi = ['ListingKey','ListingCreationDate','Term','LoanStatus','BorrowerAPR','BorrowerRate','LenderYield','EstimatedEffectiveYield','EstimatedLoss','EstimatedReturn','ProsperRating (numeric)','ProsperRating (Alpha)','ProsperScore','ListingCategory (numeric)','CurrentlyInGroup','GroupKey','CreditScoreRangeLower','CreditScoreRangeUpper','AmountDelinquent','DebtToIncomeRatio','IncomeVerifiable','StatedMonthlyIncome','LoanKey','TotalProsperLoans','MonthlyLoanPayment']\n",
    "# copied dataset with selection of variables for further wrangling and \n",
    "df_loan_filtered = df_loan[voi]\n",
    "#convert listing creation date to datetime\n",
    "df_loan_filtered['ListingCreationDate'] = df_loan_filtered['ListingCreationDate'].astype('datetime64')\n",
    "df_loan_filtered = df_loan_filtered[df_loan_filtered['ListingCreationDate']>'2009-08-01']\n",
    "# convert ProsperRating into ordered categorical types\n",
    "ordinal_var_dict = {'ProsperRating (Alpha)': ['AA','A','B','C','D','E','HR']}\n",
    "\n",
    "for var in ordinal_var_dict:\n",
    "    ordered_var = pd.api.types.CategoricalDtype(ordered = True,\n",
    "                                                categories = ordinal_var_dict[var])\n",
    "    df_loan_filtered[var] = df_loan_filtered[var].astype(ordered_var)\n",
    "\n",
    "#create rating list to allow for reversal of order to compare to prosperscore\n",
    "Rating_list = ['AA','A','B','C','D','E','HR']\n",
    "\n",
    "#creating a new category for AmountDelinquent\n",
    "#conditions for new categories\n",
    "conditions = [\n",
    "    (df_loan_filtered['AmountDelinquent'] == 0),\n",
    "    (df_loan_filtered['AmountDelinquent'] >0) & (df_loan_filtered['AmountDelinquent'] <=100),\n",
    "    (df_loan_filtered['AmountDelinquent'] > 100),\n",
    "    (df_loan_filtered['AmountDelinquent'].isnull())\n",
    "]\n",
    "#names for categories\n",
    "values = ['None', 'Small','Large','Unknown' ]\n",
    "#populate new column\n",
    "df_loan_filtered['HasDelinquency'] = np.select(conditions,values)\n",
    "\n",
    "df_loan_filtered['HasDelinquency'] = df_loan_filtered.HasDelinquency.astype('category')\n",
    "\n",
    "#creating a new category for LoanStatus\n",
    "#conditions for new categories\n",
    "conditions = [\n",
    "    (df_loan_filtered['LoanStatus'] == 'Current')|(df_loan_filtered['LoanStatus'] =='Completed') | (df_loan_filtered['LoanStatus'] == 'FinalPaymentInProgress'),\n",
    "    (df_loan_filtered['LoanStatus'] == 'Defaulted') | (df_loan_filtered['LoanStatus'] == 'Chargedoff')|(df_loan_filtered['LoanStatus'].str.contains(\"Past Due\"))\n",
    "]\n",
    "#names for categories\n",
    "values = ['Nominal','Problematic' ]\n",
    "#populate new column\n",
    "df_loan_filtered['Loan_Result'] = np.select(conditions,values)\n",
    "#restructure as categorical data\n",
    "df_loan_filtered['Loan_Result'] = df_loan_filtered.Loan_Result.astype('category')"
   ]
  },
  {
   "cell_type": "markdown",
   "id": "inappropriate-french",
   "metadata": {},
   "source": [
    "## Inital investigation of Dataset"
   ]
  },
  {
   "cell_type": "markdown",
   "id": "equipped-india",
   "metadata": {},
   "source": [
    "## Show correlation between Scores, ratings and expected indicators"
   ]
  },
  {
   "cell_type": "code",
   "execution_count": 8,
   "id": "miniature-belarus",
   "metadata": {},
   "outputs": [
    {
     "name": "stdout",
     "output_type": "stream",
     "text": [
      "<class 'pandas.core.frame.DataFrame'>\n",
      "RangeIndex: 113937 entries, 0 to 113936\n",
      "Data columns (total 81 columns):\n",
      " #   Column                               Non-Null Count   Dtype  \n",
      "---  ------                               --------------   -----  \n",
      " 0   ListingKey                           113937 non-null  object \n",
      " 1   ListingNumber                        113937 non-null  int64  \n",
      " 2   ListingCreationDate                  113937 non-null  object \n",
      " 3   CreditGrade                          28953 non-null   object \n",
      " 4   Term                                 113937 non-null  int64  \n",
      " 5   LoanStatus                           113937 non-null  object \n",
      " 6   ClosedDate                           55089 non-null   object \n",
      " 7   BorrowerAPR                          113912 non-null  float64\n",
      " 8   BorrowerRate                         113937 non-null  float64\n",
      " 9   LenderYield                          113937 non-null  float64\n",
      " 10  EstimatedEffectiveYield              84853 non-null   float64\n",
      " 11  EstimatedLoss                        84853 non-null   float64\n",
      " 12  EstimatedReturn                      84853 non-null   float64\n",
      " 13  ProsperRating (numeric)              84853 non-null   float64\n",
      " 14  ProsperRating (Alpha)                84853 non-null   object \n",
      " 15  ProsperScore                         84853 non-null   float64\n",
      " 16  ListingCategory (numeric)            113937 non-null  int64  \n",
      " 17  BorrowerState                        108422 non-null  object \n",
      " 18  Occupation                           110349 non-null  object \n",
      " 19  EmploymentStatus                     111682 non-null  object \n",
      " 20  EmploymentStatusDuration             106312 non-null  float64\n",
      " 21  IsBorrowerHomeowner                  113937 non-null  bool   \n",
      " 22  CurrentlyInGroup                     113937 non-null  bool   \n",
      " 23  GroupKey                             13341 non-null   object \n",
      " 24  DateCreditPulled                     113937 non-null  object \n",
      " 25  CreditScoreRangeLower                113346 non-null  float64\n",
      " 26  CreditScoreRangeUpper                113346 non-null  float64\n",
      " 27  FirstRecordedCreditLine              113240 non-null  object \n",
      " 28  CurrentCreditLines                   106333 non-null  float64\n",
      " 29  OpenCreditLines                      106333 non-null  float64\n",
      " 30  TotalCreditLinespast7years           113240 non-null  float64\n",
      " 31  OpenRevolvingAccounts                113937 non-null  int64  \n",
      " 32  OpenRevolvingMonthlyPayment          113937 non-null  float64\n",
      " 33  InquiriesLast6Months                 113240 non-null  float64\n",
      " 34  TotalInquiries                       112778 non-null  float64\n",
      " 35  CurrentDelinquencies                 113240 non-null  float64\n",
      " 36  AmountDelinquent                     106315 non-null  float64\n",
      " 37  DelinquenciesLast7Years              112947 non-null  float64\n",
      " 38  PublicRecordsLast10Years             113240 non-null  float64\n",
      " 39  PublicRecordsLast12Months            106333 non-null  float64\n",
      " 40  RevolvingCreditBalance               106333 non-null  float64\n",
      " 41  BankcardUtilization                  106333 non-null  float64\n",
      " 42  AvailableBankcardCredit              106393 non-null  float64\n",
      " 43  TotalTrades                          106393 non-null  float64\n",
      " 44  TradesNeverDelinquent (percentage)   106393 non-null  float64\n",
      " 45  TradesOpenedLast6Months              106393 non-null  float64\n",
      " 46  DebtToIncomeRatio                    105383 non-null  float64\n",
      " 47  IncomeRange                          113937 non-null  object \n",
      " 48  IncomeVerifiable                     113937 non-null  bool   \n",
      " 49  StatedMonthlyIncome                  113937 non-null  float64\n",
      " 50  LoanKey                              113937 non-null  object \n",
      " 51  TotalProsperLoans                    22085 non-null   float64\n",
      " 52  TotalProsperPaymentsBilled           22085 non-null   float64\n",
      " 53  OnTimeProsperPayments                22085 non-null   float64\n",
      " 54  ProsperPaymentsLessThanOneMonthLate  22085 non-null   float64\n",
      " 55  ProsperPaymentsOneMonthPlusLate      22085 non-null   float64\n",
      " 56  ProsperPrincipalBorrowed             22085 non-null   float64\n",
      " 57  ProsperPrincipalOutstanding          22085 non-null   float64\n",
      " 58  ScorexChangeAtTimeOfListing          18928 non-null   float64\n",
      " 59  LoanCurrentDaysDelinquent            113937 non-null  int64  \n",
      " 60  LoanFirstDefaultedCycleNumber        16952 non-null   float64\n",
      " 61  LoanMonthsSinceOrigination           113937 non-null  int64  \n",
      " 62  LoanNumber                           113937 non-null  int64  \n",
      " 63  LoanOriginalAmount                   113937 non-null  int64  \n",
      " 64  LoanOriginationDate                  113937 non-null  object \n",
      " 65  LoanOriginationQuarter               113937 non-null  object \n",
      " 66  MemberKey                            113937 non-null  object \n",
      " 67  MonthlyLoanPayment                   113937 non-null  float64\n",
      " 68  LP_CustomerPayments                  113937 non-null  float64\n",
      " 69  LP_CustomerPrincipalPayments         113937 non-null  float64\n",
      " 70  LP_InterestandFees                   113937 non-null  float64\n",
      " 71  LP_ServiceFees                       113937 non-null  float64\n",
      " 72  LP_CollectionFees                    113937 non-null  float64\n",
      " 73  LP_GrossPrincipalLoss                113937 non-null  float64\n",
      " 74  LP_NetPrincipalLoss                  113937 non-null  float64\n",
      " 75  LP_NonPrincipalRecoverypayments      113937 non-null  float64\n",
      " 76  PercentFunded                        113937 non-null  float64\n",
      " 77  Recommendations                      113937 non-null  int64  \n",
      " 78  InvestmentFromFriendsCount           113937 non-null  int64  \n",
      " 79  InvestmentFromFriendsAmount          113937 non-null  float64\n",
      " 80  Investors                            113937 non-null  int64  \n",
      "dtypes: bool(3), float64(50), int64(11), object(17)\n",
      "memory usage: 68.1+ MB\n"
     ]
    }
   ],
   "source": [
    "#Reverse rating order in order to keep it in line with prosperscore order\n",
    "order = reversed(Rating_list)\n",
    "fig, axs = plt.subplots(2,4, figsize = (22,7))\n",
    "sb.barplot(ax = axs[0,0], x = df_loan_filtered['ProsperScore'],y = df_loan_filtered['AmountDelinquent'])\n",
    "sb.barplot(ax = axs[1,0], x = df_loan_filtered['ProsperRating (Alpha)'], y = df_loan_filtered['AmountDelinquent'], order = order)\n",
    "sb.barplot(ax = axs[0,1], x = df_loan_filtered['ProsperScore'],y = df_loan_filtered['CreditScoreRangeLower'])\n",
    "sb.barplot(ax = axs[1,1], x = df_loan_filtered['ProsperRating (Alpha)'], y = df_loan_filtered['CreditScoreRangeLower'], order = reversed(Rating_list))\n",
    "sb.barplot(ax = axs[0,2], x = df_loan_filtered['ProsperScore'],y = df_loan_filtered['DebtToIncomeRatio'])\n",
    "sb.barplot(ax = axs[1,2], x = df_loan_filtered['ProsperRating (Alpha)'], y = df_loan_filtered['DebtToIncomeRatio'], order = reversed(Rating_list))\n",
    "sb.barplot(ax = axs[0,3], x = df_loan_filtered['ProsperScore'],y = df_loan_filtered['EstimatedLoss'])\n",
    "sb.barplot(ax = axs[1,3], x = df_loan_filtered['ProsperRating (Alpha)'], y = df_loan_filtered['EstimatedLoss'], order = reversed(Rating_list))"
   ]
  },
  {
   "cell_type": "markdown",
   "id": "improving-consolidation",
   "metadata": {},
   "source": [
    "## Show skewdness in amounts delinquent. \n",
    "categorical indicator would be more usefulle"
   ]
  },
  {
   "cell_type": "code",
   "execution_count": null,
   "id": "disciplinary-binding",
   "metadata": {},
   "outputs": [],
   "source": [
    "plt.hist(x = df_loan_filtered['AmountDelinquent'], bins=[0,1,5,10,100,1000,10000,100000,1000000])\n",
    "plt.xscale('log')"
   ]
  },
  {
   "cell_type": "markdown",
   "id": "growing-passage",
   "metadata": {},
   "source": [
    "Categorical indicator shows little difference in yields"
   ]
  },
  {
   "cell_type": "code",
   "execution_count": null,
   "id": "controversial-agency",
   "metadata": {},
   "outputs": [],
   "source": [
    "sb.catplot(data = df_loan_filtered, x = 'ProsperRating (Alpha)', y = 'LenderYield', hue = 'HasDelinquency',  kind = 'bar', hue_order = ['Large','Small','None']),\n",
    "sb.catplot(data = df_loan_filtered, x = 'ProsperScore', y = 'LenderYield', hue = 'HasDelinquency',  kind = 'bar', hue_order = ['Large','Small','None'])"
   ]
  },
  {
   "cell_type": "markdown",
   "id": "considerable-agreement",
   "metadata": {},
   "source": [
    "Estimated loss has a strong correlation it seems"
   ]
  },
  {
   "cell_type": "code",
   "execution_count": null,
   "id": "romance-conservation",
   "metadata": {},
   "outputs": [],
   "source": [
    "fig, axs= plt.subplots(2)\n",
    "sb.regplot(ax=axs[0],y = df_loan_filtered['EstimatedLoss'], x = df_loan_filtered['ProsperScore'], x_jitter=0.2, fit_reg=True)\n",
    "#using numeric values to allow for fit_reg\n",
    "sb.regplot(ax=axs[1],y = df_loan_filtered['EstimatedLoss'], x = df_loan_filtered['ProsperRating (numeric)'], x_jitter=0.2, fit_reg=True)"
   ]
  }
 ],
 "metadata": {
  "kernelspec": {
   "display_name": "Python [conda env:nanodegree] *",
   "language": "python",
   "name": "conda-env-nanodegree-py"
  },
  "language_info": {
   "codemirror_mode": {
    "name": "ipython",
    "version": 3
   },
   "file_extension": ".py",
   "mimetype": "text/x-python",
   "name": "python",
   "nbconvert_exporter": "python",
   "pygments_lexer": "ipython3",
   "version": "3.8.5"
  }
 },
 "nbformat": 4,
 "nbformat_minor": 5
}
