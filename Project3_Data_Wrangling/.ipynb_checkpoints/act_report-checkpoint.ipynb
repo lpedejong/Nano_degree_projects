{
 "cells": [
  {
   "cell_type": "markdown",
   "metadata": {},
   "source": [
    "# Analysis\n",
    "\n",
    "## augmentation\n",
    "The cleaned data is reloaded from the .csv file. The data is augmented with 2 columns\n",
    "1. a rating expressed as a single number \n",
    "2. The combining of all tweets with a dog breed with less than 10 occurences under \" other\" \n",
    "## Preliminary analysis\n",
    "Preliminary analysis shows some outliers in the `rating` data. Moreover initial plots show relatively little distinction in dog type or dog breed with regards to the average ratings\n",
    "![](rating.jpg)\n",
    "![](rating_dog_type_box.jpg)\n",
    "\n",
    "In the retweet counts and favorite counts we do see distinctions between the dog types and breeds\n",
    "![](favorite_count.jpg)\n",
    "favorite count per dog type and breed\n",
    "![](retweet_count.png)\n",
    "retweet count per dog type and breed\n",
    "\n",
    "Because of this intial analysis the favorite and retweet counts are further studied statistically\n",
    "\n",
    "## Statistical analysis\n",
    "A statistical analysis of the favorite and retweet counts can be levied by first assesing the possible correlation between favorite and retweet counts\n",
    "![](fav_retweet_dogtype.jpg)\n",
    "This shows that favorite and retweet counts appear to be correlated, and furthermore that the dog type does not seem to be of influence in the correlation. \n",
    "To check the correlation we can see in the following heatmap\n",
    "![](heatmap.jpg)\n",
    "That favorite count and retweet counts are indeed highly correlated. This seems logical as twitter users are most likely inclined to both like and retweet any post they come across that they actually like. \n",
    "\n",
    "## Conclusions\n",
    "\n",
    "The "
   ]
  }
 ],
 "metadata": {
  "kernelspec": {
   "display_name": "Python 3",
   "language": "python",
   "name": "python3"
  },
  "language_info": {
   "codemirror_mode": {
    "name": "ipython",
    "version": 3
   },
   "file_extension": ".py",
   "mimetype": "text/x-python",
   "name": "python",
   "nbconvert_exporter": "python",
   "pygments_lexer": "ipython3",
   "version": "3.8.5"
  }
 },
 "nbformat": 4,
 "nbformat_minor": 4
}
