{
 "cells": [
  {
   "cell_type": "markdown",
   "metadata": {},
   "source": [
    "# Extracting data from SQL files\n",
    "\n",
    "Extracting all data from the global_data schema:\n",
    "\n",
    "`SELECT * FROM global_data`\n",
    "\n",
    "I want to examin the city data for the last to city's I've lived in. Therefore I need to find the cities available in \n",
    "the city_list database.\n",
    "\n",
    "'SELECT * FROM city_list WHERE country = 'Netherlands' OR country = \"Denmark\";\n",
    "\n",
    "The only available cities in The Netherlands and Denmark are *Amsterdam* and *Copenhagen*. Therefore I shall extract the data for Amsterdam and Copenhagen from the city_data schema using:\n",
    "\n",
    "`SELECT * FROM city_data WHERE city = 'Copenhagen' OR city='Amsterdam';`\n",
    "\n",
    "Both resulting .csv files are stored locally and names *globale_data.csv* and *city_data.csv* respectively."
   ]
  },
  {
   "cell_type": "markdown",
   "metadata": {},
   "source": [
    "## Preparing the Jupyter Notebook to read the data and do a first exploratory data analysis"
   ]
  },
  {
   "cell_type": "markdown",
   "metadata": {},
   "source": [
    "As I have taken an introductory course in Python, I decided to analyse the data in Python utilising pandas and numpy for data handling and calculations and bokeh for plotting."
   ]
  },
  {
   "cell_type": "code",
   "execution_count": 125,
   "metadata": {},
   "outputs": [],
   "source": [
    "import pandas as pd\n",
    "import numpy as np\n",
    "from bokeh.plotting import figure, show, output_file\n",
    "from bokeh.io import output_notebook # allows for bokeh plots to be rendered directly in the jupyter notebook\n",
    "from bokeh.io import export_png # allows the export of bokeh plots to .png in order to be included in the pdf\n"
   ]
  },
  {
   "cell_type": "markdown",
   "metadata": {},
   "source": [
    "## Importing the CSV files and preparing pandas for analysis\n",
    "\n",
    "The two csv files are imported in pandas. Because I am evaluating two cities, the data from *city_data.csv* needs to be split into data for Amsterdam and Copenhagen. Therefore two new pandas are created."
   ]
  },
  {
   "cell_type": "code",
   "execution_count": 26,
   "metadata": {},
   "outputs": [],
   "source": [
    "#import city_data.csv\n",
    "city = pd.read_csv(r\"C:\\Users\\lpede\\OneDrive\\Data Analyst Nano Degree\\Project 1 Weather data\\city_data.csv\")\n",
    "#extract Amsterdam data from city\n",
    "city_amsterdam = city[city['city']  == \"Amsterdam\"]\n",
    "#extract Copenhagen data from city\n",
    "city_copenhagen = city[city['city']  == \"Copenhagen\"]\n",
    "#import global_data.csv\n",
    "world = pd.read_csv(r\"C:\\Users\\lpede\\OneDrive\\Data Analyst Nano Degree\\Project 1 Weather data\\global_data.csv\")\n"
   ]
  },
  {
   "cell_type": "code",
   "execution_count": 27,
   "metadata": {},
   "outputs": [
    {
     "name": "stdout",
     "output_type": "stream",
     "text": [
      "   year       city      country  avg_temp\n",
      "0  1743  Amsterdam  Netherlands      7.43\n",
      "1  1744  Amsterdam  Netherlands     10.31\n",
      "2  1745  Amsterdam  Netherlands      3.06\n",
      "3  1746  Amsterdam  Netherlands       NaN\n",
      "4  1747  Amsterdam  Netherlands       NaN\n",
      "   year       city      country  avg_temp\n",
      "0  1743  Amsterdam  Netherlands      7.43\n",
      "1  1744  Amsterdam  Netherlands     10.31\n",
      "2  1745  Amsterdam  Netherlands      3.06\n",
      "3  1746  Amsterdam  Netherlands       NaN\n",
      "4  1747  Amsterdam  Netherlands       NaN\n",
      "     year        city  country  avg_temp\n",
      "271  1743  Copenhagen  Denmark      6.37\n",
      "272  1744  Copenhagen  Denmark      9.29\n",
      "273  1745  Copenhagen  Denmark      0.09\n",
      "274  1746  Copenhagen  Denmark       NaN\n",
      "275  1747  Copenhagen  Denmark       NaN\n",
      "   year  avg_temp\n",
      "0  1750      8.72\n",
      "1  1751      7.98\n",
      "2  1752      5.78\n",
      "3  1753      8.39\n",
      "4  1754      8.47\n"
     ]
    }
   ],
   "source": [
    "# testing wether all pandas are imported correctly\n",
    "\n",
    "# city data\n",
    "print(city.head())\n",
    "# Amsterdam data\n",
    "print(city_amsterdam.head())\n",
    "# Copenhagen data\n",
    "print(city_copenhagen.head())\n",
    "# World temperature data\n",
    "print(world.head())"
   ]
  },
  {
   "cell_type": "markdown",
   "metadata": {},
   "source": [
    "The data seems to have been imported correctly. The data for cities has been split in order to perform specific analysis for Amsterdam and Copenhagen. The next step is to evaluate the data"
   ]
  },
  {
   "cell_type": "markdown",
   "metadata": {},
   "source": [
    "## Initial analysis\n",
    "\n",
    "utlising the info command e.g. `city.info()` some basic characteristics of the data will be given that gives a first idea of the quality and quantity of the data."
   ]
  },
  {
   "cell_type": "code",
   "execution_count": 29,
   "metadata": {},
   "outputs": [
    {
     "name": "stdout",
     "output_type": "stream",
     "text": [
      "<class 'pandas.core.frame.DataFrame'>\n",
      "RangeIndex: 542 entries, 0 to 541\n",
      "Data columns (total 4 columns):\n",
      " #   Column    Non-Null Count  Dtype  \n",
      "---  ------    --------------  -----  \n",
      " 0   year      542 non-null    int64  \n",
      " 1   city      542 non-null    object \n",
      " 2   country   542 non-null    object \n",
      " 3   avg_temp  534 non-null    float64\n",
      "dtypes: float64(1), int64(1), object(2)\n",
      "memory usage: 17.1+ KB\n"
     ]
    }
   ],
   "source": [
    "city.info()"
   ]
  },
  {
   "cell_type": "markdown",
   "metadata": {},
   "source": [
    "We see that the city database contains 542 lines, with 8 missing values for average temperatures."
   ]
  },
  {
   "cell_type": "code",
   "execution_count": 48,
   "metadata": {},
   "outputs": [
    {
     "name": "stdout",
     "output_type": "stream",
     "text": [
      "DataFrame info for Amsterdam\n",
      "<class 'pandas.core.frame.DataFrame'>\n",
      "Int64Index: 271 entries, 0 to 270\n",
      "Data columns (total 4 columns):\n",
      " #   Column    Non-Null Count  Dtype  \n",
      "---  ------    --------------  -----  \n",
      " 0   year      271 non-null    int64  \n",
      " 1   city      271 non-null    object \n",
      " 2   country   271 non-null    object \n",
      " 3   avg_temp  267 non-null    float64\n",
      "dtypes: float64(1), int64(1), object(2)\n",
      "memory usage: 10.6+ KB\n",
      "DataFrame info for Copenhagen\n",
      "<class 'pandas.core.frame.DataFrame'>\n",
      "Int64Index: 271 entries, 271 to 541\n",
      "Data columns (total 4 columns):\n",
      " #   Column    Non-Null Count  Dtype  \n",
      "---  ------    --------------  -----  \n",
      " 0   year      271 non-null    int64  \n",
      " 1   city      271 non-null    object \n",
      " 2   country   271 non-null    object \n",
      " 3   avg_temp  267 non-null    float64\n",
      "dtypes: float64(1), int64(1), object(2)\n",
      "memory usage: 10.6+ KB\n"
     ]
    }
   ],
   "source": [
    "print(\"DataFrame info for Amsterdam\")\n",
    "city_amsterdam.info()\n",
    "print(\"DataFrame info for Copenhagen\")\n",
    "city_copenhagen.info()"
   ]
  },
  {
   "cell_type": "markdown",
   "metadata": {},
   "source": [
    "Displaying the same information for Amsterdam and Copenhagen respectively shows the missing values are evenly distributed between the two cities with 4 missing values each."
   ]
  },
  {
   "cell_type": "code",
   "execution_count": 33,
   "metadata": {},
   "outputs": [
    {
     "name": "stdout",
     "output_type": "stream",
     "text": [
      "<class 'pandas.core.frame.DataFrame'>\n",
      "RangeIndex: 266 entries, 0 to 265\n",
      "Data columns (total 2 columns):\n",
      " #   Column    Non-Null Count  Dtype  \n",
      "---  ------    --------------  -----  \n",
      " 0   year      266 non-null    int64  \n",
      " 1   avg_temp  266 non-null    float64\n",
      "dtypes: float64(1), int64(1)\n",
      "memory usage: 4.3 KB\n"
     ]
    }
   ],
   "source": [
    "world.info()"
   ]
  },
  {
   "cell_type": "markdown",
   "metadata": {},
   "source": [
    "We see that the world temperature data has 266 entries, 5 less then the datasets for Amsterdam and Copenhagen. Following this simple analysis there are several questions to be answered\n",
    "\n",
    "1. What is the range of overlapping years between the world and city datasets\n",
    "2. What is the best way to deal with the missing values in the city datasets\n",
    "\n",
    "In order to find out the anwer to question number one, we explore the minimum and maximum values for the city_amsterdam and world data. "
   ]
  },
  {
   "cell_type": "code",
   "execution_count": 47,
   "metadata": {},
   "outputs": [
    {
     "name": "stdout",
     "output_type": "stream",
     "text": [
      "min and max years for Copenhagen data\n",
      "1743\n",
      "2013\n",
      "min and max years for Amsterdam data\n",
      "1743\n",
      "2013\n",
      "min and max years for world data\n",
      "1750\n",
      "2015\n"
     ]
    }
   ],
   "source": [
    "print(\"min and max years for Copenhagen data\")\n",
    "print(city_copenhagen[\"year\"].min())\n",
    "print(city_copenhagen[\"year\"].max())\n",
    "print(\"min and max years for Amsterdam data\")\n",
    "print(city_amsterdam[\"year\"].min())\n",
    "print(city_amsterdam[\"year\"].max())\n",
    "print(\"min and max years for world data\")\n",
    "print(world[\"year\"].min())\n",
    "print(world[\"year\"].max())\n",
    "\n"
   ]
  },
  {
   "cell_type": "markdown",
   "metadata": {},
   "source": [
    "Based on the results above it stands to reason to compare the temperatures between the world data and the data for Amsterdam and Copenhagen respectively between 1750 and 2013 as this is the overlapping window between the datasets. Secondly we deal with the missing values in the Amsterdam and Copenhagen data. "
   ]
  },
  {
   "cell_type": "code",
   "execution_count": 56,
   "metadata": {},
   "outputs": [
    {
     "name": "stdout",
     "output_type": "stream",
     "text": [
      "Copenhagen\n",
      "     year        city  country  avg_temp\n",
      "274  1746  Copenhagen  Denmark       NaN\n",
      "275  1747  Copenhagen  Denmark       NaN\n",
      "276  1748  Copenhagen  Denmark       NaN\n",
      "277  1749  Copenhagen  Denmark       NaN\n",
      "Amsterdam\n",
      "   year       city      country  avg_temp\n",
      "3  1746  Amsterdam  Netherlands       NaN\n",
      "4  1747  Amsterdam  Netherlands       NaN\n",
      "5  1748  Amsterdam  Netherlands       NaN\n",
      "6  1749  Amsterdam  Netherlands       NaN\n"
     ]
    }
   ],
   "source": [
    "null_copenhagen = city_copenhagen[city_copenhagen.isna().any(axis=1)]\n",
    "null_amsterdam = city_amsterdam[city_amsterdam.isna().any(axis=1)]\n",
    "print(\"Copenhagen\")\n",
    "print(null_copenhagen)\n",
    "print(\"Amsterdam\")\n",
    "print(null_amsterdam)"
   ]
  },
  {
   "cell_type": "markdown",
   "metadata": {},
   "source": [
    "This analysis shows that both Amsterdam and Copenhagen have missing average temperatures for the same years between 1746 and 1749. This makes the deletion of this range from all three datasets the obvious solution. We do this dropping the rows with Nan values. "
   ]
  },
  {
   "cell_type": "code",
   "execution_count": 76,
   "metadata": {},
   "outputs": [
    {
     "name": "stdout",
     "output_type": "stream",
     "text": [
      "   year       city      country  avg_temp\n",
      "0  1743  Amsterdam  Netherlands      7.43\n",
      "1  1744  Amsterdam  Netherlands     10.31\n",
      "2  1745  Amsterdam  Netherlands      3.06\n",
      "7  1750  Amsterdam  Netherlands     10.04\n",
      "8  1751  Amsterdam  Netherlands      9.63\n",
      "     year        city  country  avg_temp\n",
      "271  1743  Copenhagen  Denmark      6.37\n",
      "272  1744  Copenhagen  Denmark      9.29\n",
      "273  1745  Copenhagen  Denmark      0.09\n",
      "278  1750  Copenhagen  Denmark      8.89\n",
      "279  1751  Copenhagen  Denmark      8.33\n"
     ]
    }
   ],
   "source": [
    "#remove rows from amsterdam and copenhagen with indexes as above\n",
    "ams_new = city_amsterdam.dropna(axis = 0)   #dropping the rows, and having changes in place generated a copy in place error\n",
    "cph_new = city_copenhagen.dropna(axis = 0)\n",
    "print(city_amsterdam.head())\n",
    "print(city_copenhagen.head())"
   ]
  },
  {
   "cell_type": "markdown",
   "metadata": {},
   "source": [
    "#### Error correction\n",
    "utilising the command \n",
    "`city_amsterdam.dropna(axis = 0, inplace = True)` and `city_copenhagen.dropna(axis =0, inplace = True)` generated a copy in place error. Therefore we set new pandas, and reassign them to city_amsterdam and city_copenhagen in the following step"
   ]
  },
  {
   "cell_type": "code",
   "execution_count": 78,
   "metadata": {},
   "outputs": [],
   "source": [
    "city_amsterdam = ams_new\n",
    "city_copenhagen = cph_new"
   ]
  },
  {
   "cell_type": "markdown",
   "metadata": {},
   "source": [
    "## Analysis\n",
    "The following shows the calculation of the moving average and a display of it's impact on the readibilit of the graphs. The data is presented as line graphs plotted in the same figure, as to make comparisons easier. In order to compare between the raw data and a moving average, first the raw data is plotted using *bokeh*."
   ]
  },
  {
   "cell_type": "code",
   "execution_count": 99,
   "metadata": {},
   "outputs": [
    {
     "data": {
      "text/html": [
       "<div style=\"display: table;\"><div style=\"display: table-row;\"><div style=\"display: table-cell;\"><b title=\"bokeh.models.renderers.GlyphRenderer\">GlyphRenderer</b>(</div><div style=\"display: table-cell;\">id&nbsp;=&nbsp;'1762', <span id=\"1776\" style=\"cursor: pointer;\">&hellip;)</span></div></div><div class=\"1775\" style=\"display: none;\"><div style=\"display: table-cell;\"></div><div style=\"display: table-cell;\">data_source&nbsp;=&nbsp;ColumnDataSource(id='1759', ...),</div></div><div class=\"1775\" style=\"display: none;\"><div style=\"display: table-cell;\"></div><div style=\"display: table-cell;\">glyph&nbsp;=&nbsp;Line(id='1760', ...),</div></div><div class=\"1775\" style=\"display: none;\"><div style=\"display: table-cell;\"></div><div style=\"display: table-cell;\">hover_glyph&nbsp;=&nbsp;None,</div></div><div class=\"1775\" style=\"display: none;\"><div style=\"display: table-cell;\"></div><div style=\"display: table-cell;\">js_event_callbacks&nbsp;=&nbsp;{},</div></div><div class=\"1775\" style=\"display: none;\"><div style=\"display: table-cell;\"></div><div style=\"display: table-cell;\">js_property_callbacks&nbsp;=&nbsp;{},</div></div><div class=\"1775\" style=\"display: none;\"><div style=\"display: table-cell;\"></div><div style=\"display: table-cell;\">level&nbsp;=&nbsp;'glyph',</div></div><div class=\"1775\" style=\"display: none;\"><div style=\"display: table-cell;\"></div><div style=\"display: table-cell;\">muted&nbsp;=&nbsp;False,</div></div><div class=\"1775\" style=\"display: none;\"><div style=\"display: table-cell;\"></div><div style=\"display: table-cell;\">muted_glyph&nbsp;=&nbsp;None,</div></div><div class=\"1775\" style=\"display: none;\"><div style=\"display: table-cell;\"></div><div style=\"display: table-cell;\">name&nbsp;=&nbsp;None,</div></div><div class=\"1775\" style=\"display: none;\"><div style=\"display: table-cell;\"></div><div style=\"display: table-cell;\">nonselection_glyph&nbsp;=&nbsp;Line(id='1761', ...),</div></div><div class=\"1775\" style=\"display: none;\"><div style=\"display: table-cell;\"></div><div style=\"display: table-cell;\">selection_glyph&nbsp;=&nbsp;None,</div></div><div class=\"1775\" style=\"display: none;\"><div style=\"display: table-cell;\"></div><div style=\"display: table-cell;\">subscribed_events&nbsp;=&nbsp;[],</div></div><div class=\"1775\" style=\"display: none;\"><div style=\"display: table-cell;\"></div><div style=\"display: table-cell;\">tags&nbsp;=&nbsp;[],</div></div><div class=\"1775\" style=\"display: none;\"><div style=\"display: table-cell;\"></div><div style=\"display: table-cell;\">view&nbsp;=&nbsp;CDSView(id='1763', ...),</div></div><div class=\"1775\" style=\"display: none;\"><div style=\"display: table-cell;\"></div><div style=\"display: table-cell;\">visible&nbsp;=&nbsp;True,</div></div><div class=\"1775\" style=\"display: none;\"><div style=\"display: table-cell;\"></div><div style=\"display: table-cell;\">x_range_name&nbsp;=&nbsp;'default',</div></div><div class=\"1775\" style=\"display: none;\"><div style=\"display: table-cell;\"></div><div style=\"display: table-cell;\">y_range_name&nbsp;=&nbsp;'default')</div></div></div>\n",
       "<script>\n",
       "(function() {\n",
       "  var expanded = false;\n",
       "  var ellipsis = document.getElementById(\"1776\");\n",
       "  ellipsis.addEventListener(\"click\", function() {\n",
       "    var rows = document.getElementsByClassName(\"1775\");\n",
       "    for (var i = 0; i < rows.length; i++) {\n",
       "      var el = rows[i];\n",
       "      el.style.display = expanded ? \"none\" : \"table-row\";\n",
       "    }\n",
       "    ellipsis.innerHTML = expanded ? \"&hellip;)\" : \"&lsaquo;&lsaquo;&lsaquo;\";\n",
       "    expanded = !expanded;\n",
       "  });\n",
       "})();\n",
       "</script>\n"
      ],
      "text/plain": [
       "GlyphRenderer(id='1762', ...)"
      ]
     },
     "execution_count": 99,
     "metadata": {},
     "output_type": "execute_result"
    }
   ],
   "source": [
    "p = figure(title = \"Average city temperatures\")\n",
    "p.grid.grid_line_alpha = 0.3\n",
    "p.xaxis.axis_label = \"Year\"\n",
    "p.yaxis.axis_label = \"Average Temperature\"\n",
    "p.line(city_amsterdam[\"year\"], city_amsterdam[\"avg_temp\"], line_width = 3, legend_label = \"Amsterdam\")\n",
    "p.line(city_copenhagen[\"year\"], city_copenhagen[\"avg_temp\"], line_width = 3, color = \"#ff5733\", legend_label = \"Copenhagen\")"
   ]
  },
  {
   "cell_type": "code",
   "execution_count": 92,
   "metadata": {},
   "outputs": [
    {
     "data": {
      "text/html": [
       "\n",
       "    <div class=\"bk-root\">\n",
       "        <a href=\"https://bokeh.org\" target=\"_blank\" class=\"bk-logo bk-logo-small bk-logo-notebook\"></a>\n",
       "        <span id=\"1480\">Loading BokehJS ...</span>\n",
       "    </div>"
      ]
     },
     "metadata": {},
     "output_type": "display_data"
    },
    {
     "data": {
      "application/javascript": [
       "\n",
       "(function(root) {\n",
       "  function now() {\n",
       "    return new Date();\n",
       "  }\n",
       "\n",
       "  var force = true;\n",
       "\n",
       "  if (typeof root._bokeh_onload_callbacks === \"undefined\" || force === true) {\n",
       "    root._bokeh_onload_callbacks = [];\n",
       "    root._bokeh_is_loading = undefined;\n",
       "  }\n",
       "\n",
       "  var JS_MIME_TYPE = 'application/javascript';\n",
       "  var HTML_MIME_TYPE = 'text/html';\n",
       "  var EXEC_MIME_TYPE = 'application/vnd.bokehjs_exec.v0+json';\n",
       "  var CLASS_NAME = 'output_bokeh rendered_html';\n",
       "\n",
       "  /**\n",
       "   * Render data to the DOM node\n",
       "   */\n",
       "  function render(props, node) {\n",
       "    var script = document.createElement(\"script\");\n",
       "    node.appendChild(script);\n",
       "  }\n",
       "\n",
       "  /**\n",
       "   * Handle when an output is cleared or removed\n",
       "   */\n",
       "  function handleClearOutput(event, handle) {\n",
       "    var cell = handle.cell;\n",
       "\n",
       "    var id = cell.output_area._bokeh_element_id;\n",
       "    var server_id = cell.output_area._bokeh_server_id;\n",
       "    // Clean up Bokeh references\n",
       "    if (id != null && id in Bokeh.index) {\n",
       "      Bokeh.index[id].model.document.clear();\n",
       "      delete Bokeh.index[id];\n",
       "    }\n",
       "\n",
       "    if (server_id !== undefined) {\n",
       "      // Clean up Bokeh references\n",
       "      var cmd = \"from bokeh.io.state import curstate; print(curstate().uuid_to_server['\" + server_id + \"'].get_sessions()[0].document.roots[0]._id)\";\n",
       "      cell.notebook.kernel.execute(cmd, {\n",
       "        iopub: {\n",
       "          output: function(msg) {\n",
       "            var id = msg.content.text.trim();\n",
       "            if (id in Bokeh.index) {\n",
       "              Bokeh.index[id].model.document.clear();\n",
       "              delete Bokeh.index[id];\n",
       "            }\n",
       "          }\n",
       "        }\n",
       "      });\n",
       "      // Destroy server and session\n",
       "      var cmd = \"import bokeh.io.notebook as ion; ion.destroy_server('\" + server_id + \"')\";\n",
       "      cell.notebook.kernel.execute(cmd);\n",
       "    }\n",
       "  }\n",
       "\n",
       "  /**\n",
       "   * Handle when a new output is added\n",
       "   */\n",
       "  function handleAddOutput(event, handle) {\n",
       "    var output_area = handle.output_area;\n",
       "    var output = handle.output;\n",
       "\n",
       "    // limit handleAddOutput to display_data with EXEC_MIME_TYPE content only\n",
       "    if ((output.output_type != \"display_data\") || (!output.data.hasOwnProperty(EXEC_MIME_TYPE))) {\n",
       "      return\n",
       "    }\n",
       "\n",
       "    var toinsert = output_area.element.find(\".\" + CLASS_NAME.split(' ')[0]);\n",
       "\n",
       "    if (output.metadata[EXEC_MIME_TYPE][\"id\"] !== undefined) {\n",
       "      toinsert[toinsert.length - 1].firstChild.textContent = output.data[JS_MIME_TYPE];\n",
       "      // store reference to embed id on output_area\n",
       "      output_area._bokeh_element_id = output.metadata[EXEC_MIME_TYPE][\"id\"];\n",
       "    }\n",
       "    if (output.metadata[EXEC_MIME_TYPE][\"server_id\"] !== undefined) {\n",
       "      var bk_div = document.createElement(\"div\");\n",
       "      bk_div.innerHTML = output.data[HTML_MIME_TYPE];\n",
       "      var script_attrs = bk_div.children[0].attributes;\n",
       "      for (var i = 0; i < script_attrs.length; i++) {\n",
       "        toinsert[toinsert.length - 1].firstChild.setAttribute(script_attrs[i].name, script_attrs[i].value);\n",
       "        toinsert[toinsert.length - 1].firstChild.textContent = bk_div.children[0].textContent\n",
       "      }\n",
       "      // store reference to server id on output_area\n",
       "      output_area._bokeh_server_id = output.metadata[EXEC_MIME_TYPE][\"server_id\"];\n",
       "    }\n",
       "  }\n",
       "\n",
       "  function register_renderer(events, OutputArea) {\n",
       "\n",
       "    function append_mime(data, metadata, element) {\n",
       "      // create a DOM node to render to\n",
       "      var toinsert = this.create_output_subarea(\n",
       "        metadata,\n",
       "        CLASS_NAME,\n",
       "        EXEC_MIME_TYPE\n",
       "      );\n",
       "      this.keyboard_manager.register_events(toinsert);\n",
       "      // Render to node\n",
       "      var props = {data: data, metadata: metadata[EXEC_MIME_TYPE]};\n",
       "      render(props, toinsert[toinsert.length - 1]);\n",
       "      element.append(toinsert);\n",
       "      return toinsert\n",
       "    }\n",
       "\n",
       "    /* Handle when an output is cleared or removed */\n",
       "    events.on('clear_output.CodeCell', handleClearOutput);\n",
       "    events.on('delete.Cell', handleClearOutput);\n",
       "\n",
       "    /* Handle when a new output is added */\n",
       "    events.on('output_added.OutputArea', handleAddOutput);\n",
       "\n",
       "    /**\n",
       "     * Register the mime type and append_mime function with output_area\n",
       "     */\n",
       "    OutputArea.prototype.register_mime_type(EXEC_MIME_TYPE, append_mime, {\n",
       "      /* Is output safe? */\n",
       "      safe: true,\n",
       "      /* Index of renderer in `output_area.display_order` */\n",
       "      index: 0\n",
       "    });\n",
       "  }\n",
       "\n",
       "  // register the mime type if in Jupyter Notebook environment and previously unregistered\n",
       "  if (root.Jupyter !== undefined) {\n",
       "    var events = require('base/js/events');\n",
       "    var OutputArea = require('notebook/js/outputarea').OutputArea;\n",
       "\n",
       "    if (OutputArea.prototype.mime_types().indexOf(EXEC_MIME_TYPE) == -1) {\n",
       "      register_renderer(events, OutputArea);\n",
       "    }\n",
       "  }\n",
       "\n",
       "  \n",
       "  if (typeof (root._bokeh_timeout) === \"undefined\" || force === true) {\n",
       "    root._bokeh_timeout = Date.now() + 5000;\n",
       "    root._bokeh_failed_load = false;\n",
       "  }\n",
       "\n",
       "  var NB_LOAD_WARNING = {'data': {'text/html':\n",
       "     \"<div style='background-color: #fdd'>\\n\"+\n",
       "     \"<p>\\n\"+\n",
       "     \"BokehJS does not appear to have successfully loaded. If loading BokehJS from CDN, this \\n\"+\n",
       "     \"may be due to a slow or bad network connection. Possible fixes:\\n\"+\n",
       "     \"</p>\\n\"+\n",
       "     \"<ul>\\n\"+\n",
       "     \"<li>re-rerun `output_notebook()` to attempt to load from CDN again, or</li>\\n\"+\n",
       "     \"<li>use INLINE resources instead, as so:</li>\\n\"+\n",
       "     \"</ul>\\n\"+\n",
       "     \"<code>\\n\"+\n",
       "     \"from bokeh.resources import INLINE\\n\"+\n",
       "     \"output_notebook(resources=INLINE)\\n\"+\n",
       "     \"</code>\\n\"+\n",
       "     \"</div>\"}};\n",
       "\n",
       "  function display_loaded() {\n",
       "    var el = document.getElementById(\"1480\");\n",
       "    if (el != null) {\n",
       "      el.textContent = \"BokehJS is loading...\";\n",
       "    }\n",
       "    if (root.Bokeh !== undefined) {\n",
       "      if (el != null) {\n",
       "        el.textContent = \"BokehJS \" + root.Bokeh.version + \" successfully loaded.\";\n",
       "      }\n",
       "    } else if (Date.now() < root._bokeh_timeout) {\n",
       "      setTimeout(display_loaded, 100)\n",
       "    }\n",
       "  }\n",
       "\n",
       "\n",
       "  function run_callbacks() {\n",
       "    try {\n",
       "      root._bokeh_onload_callbacks.forEach(function(callback) {\n",
       "        if (callback != null)\n",
       "          callback();\n",
       "      });\n",
       "    } finally {\n",
       "      delete root._bokeh_onload_callbacks\n",
       "    }\n",
       "    console.debug(\"Bokeh: all callbacks have finished\");\n",
       "  }\n",
       "\n",
       "  function load_libs(css_urls, js_urls, callback) {\n",
       "    if (css_urls == null) css_urls = [];\n",
       "    if (js_urls == null) js_urls = [];\n",
       "\n",
       "    root._bokeh_onload_callbacks.push(callback);\n",
       "    if (root._bokeh_is_loading > 0) {\n",
       "      console.debug(\"Bokeh: BokehJS is being loaded, scheduling callback at\", now());\n",
       "      return null;\n",
       "    }\n",
       "    if (js_urls == null || js_urls.length === 0) {\n",
       "      run_callbacks();\n",
       "      return null;\n",
       "    }\n",
       "    console.debug(\"Bokeh: BokehJS not loaded, scheduling load and callback at\", now());\n",
       "    root._bokeh_is_loading = css_urls.length + js_urls.length;\n",
       "\n",
       "    function on_load() {\n",
       "      root._bokeh_is_loading--;\n",
       "      if (root._bokeh_is_loading === 0) {\n",
       "        console.debug(\"Bokeh: all BokehJS libraries/stylesheets loaded\");\n",
       "        run_callbacks()\n",
       "      }\n",
       "    }\n",
       "\n",
       "    function on_error() {\n",
       "      console.error(\"failed to load \" + url);\n",
       "    }\n",
       "\n",
       "    for (var i = 0; i < css_urls.length; i++) {\n",
       "      var url = css_urls[i];\n",
       "      const element = document.createElement(\"link\");\n",
       "      element.onload = on_load;\n",
       "      element.onerror = on_error;\n",
       "      element.rel = \"stylesheet\";\n",
       "      element.type = \"text/css\";\n",
       "      element.href = url;\n",
       "      console.debug(\"Bokeh: injecting link tag for BokehJS stylesheet: \", url);\n",
       "      document.body.appendChild(element);\n",
       "    }\n",
       "\n",
       "    const hashes = {\"https://cdn.bokeh.org/bokeh/release/bokeh-2.2.1.min.js\": \"qkRvDQVAIfzsJo40iRBbxt6sttt0hv4lh74DG7OK4MCHv4C5oohXYoHUM5W11uqS\", \"https://cdn.bokeh.org/bokeh/release/bokeh-widgets-2.2.1.min.js\": \"Sb7Mr06a9TNlet/GEBeKaf5xH3eb6AlCzwjtU82wNPyDrnfoiVl26qnvlKjmcAd+\", \"https://cdn.bokeh.org/bokeh/release/bokeh-tables-2.2.1.min.js\": \"HaJ15vgfmcfRtB4c4YBOI4f1MUujukqInOWVqZJZZGK7Q+ivud0OKGSTn/Vm2iso\"};\n",
       "\n",
       "    for (var i = 0; i < js_urls.length; i++) {\n",
       "      var url = js_urls[i];\n",
       "      var element = document.createElement('script');\n",
       "      element.onload = on_load;\n",
       "      element.onerror = on_error;\n",
       "      element.async = false;\n",
       "      element.src = url;\n",
       "      if (url in hashes) {\n",
       "        element.crossOrigin = \"anonymous\";\n",
       "        element.integrity = \"sha384-\" + hashes[url];\n",
       "      }\n",
       "      console.debug(\"Bokeh: injecting script tag for BokehJS library: \", url);\n",
       "      document.head.appendChild(element);\n",
       "    }\n",
       "  };\n",
       "\n",
       "  function inject_raw_css(css) {\n",
       "    const element = document.createElement(\"style\");\n",
       "    element.appendChild(document.createTextNode(css));\n",
       "    document.body.appendChild(element);\n",
       "  }\n",
       "\n",
       "  \n",
       "  var js_urls = [\"https://cdn.bokeh.org/bokeh/release/bokeh-2.2.1.min.js\", \"https://cdn.bokeh.org/bokeh/release/bokeh-widgets-2.2.1.min.js\", \"https://cdn.bokeh.org/bokeh/release/bokeh-tables-2.2.1.min.js\"];\n",
       "  var css_urls = [];\n",
       "  \n",
       "\n",
       "  var inline_js = [\n",
       "    function(Bokeh) {\n",
       "      Bokeh.set_log_level(\"info\");\n",
       "    },\n",
       "    function(Bokeh) {\n",
       "    \n",
       "    \n",
       "    }\n",
       "  ];\n",
       "\n",
       "  function run_inline_js() {\n",
       "    \n",
       "    if (root.Bokeh !== undefined || force === true) {\n",
       "      \n",
       "    for (var i = 0; i < inline_js.length; i++) {\n",
       "      inline_js[i].call(root, root.Bokeh);\n",
       "    }\n",
       "    if (force === true) {\n",
       "        display_loaded();\n",
       "      }} else if (Date.now() < root._bokeh_timeout) {\n",
       "      setTimeout(run_inline_js, 100);\n",
       "    } else if (!root._bokeh_failed_load) {\n",
       "      console.log(\"Bokeh: BokehJS failed to load within specified timeout.\");\n",
       "      root._bokeh_failed_load = true;\n",
       "    } else if (force !== true) {\n",
       "      var cell = $(document.getElementById(\"1480\")).parents('.cell').data().cell;\n",
       "      cell.output_area.append_execute_result(NB_LOAD_WARNING)\n",
       "    }\n",
       "\n",
       "  }\n",
       "\n",
       "  if (root._bokeh_is_loading === 0) {\n",
       "    console.debug(\"Bokeh: BokehJS loaded, going straight to plotting\");\n",
       "    run_inline_js();\n",
       "  } else {\n",
       "    load_libs(css_urls, js_urls, function() {\n",
       "      console.debug(\"Bokeh: BokehJS plotting callback run at\", now());\n",
       "      run_inline_js();\n",
       "    });\n",
       "  }\n",
       "}(window));"
      ],
      "application/vnd.bokehjs_load.v0+json": "\n(function(root) {\n  function now() {\n    return new Date();\n  }\n\n  var force = true;\n\n  if (typeof root._bokeh_onload_callbacks === \"undefined\" || force === true) {\n    root._bokeh_onload_callbacks = [];\n    root._bokeh_is_loading = undefined;\n  }\n\n  \n\n  \n  if (typeof (root._bokeh_timeout) === \"undefined\" || force === true) {\n    root._bokeh_timeout = Date.now() + 5000;\n    root._bokeh_failed_load = false;\n  }\n\n  var NB_LOAD_WARNING = {'data': {'text/html':\n     \"<div style='background-color: #fdd'>\\n\"+\n     \"<p>\\n\"+\n     \"BokehJS does not appear to have successfully loaded. If loading BokehJS from CDN, this \\n\"+\n     \"may be due to a slow or bad network connection. Possible fixes:\\n\"+\n     \"</p>\\n\"+\n     \"<ul>\\n\"+\n     \"<li>re-rerun `output_notebook()` to attempt to load from CDN again, or</li>\\n\"+\n     \"<li>use INLINE resources instead, as so:</li>\\n\"+\n     \"</ul>\\n\"+\n     \"<code>\\n\"+\n     \"from bokeh.resources import INLINE\\n\"+\n     \"output_notebook(resources=INLINE)\\n\"+\n     \"</code>\\n\"+\n     \"</div>\"}};\n\n  function display_loaded() {\n    var el = document.getElementById(\"1480\");\n    if (el != null) {\n      el.textContent = \"BokehJS is loading...\";\n    }\n    if (root.Bokeh !== undefined) {\n      if (el != null) {\n        el.textContent = \"BokehJS \" + root.Bokeh.version + \" successfully loaded.\";\n      }\n    } else if (Date.now() < root._bokeh_timeout) {\n      setTimeout(display_loaded, 100)\n    }\n  }\n\n\n  function run_callbacks() {\n    try {\n      root._bokeh_onload_callbacks.forEach(function(callback) {\n        if (callback != null)\n          callback();\n      });\n    } finally {\n      delete root._bokeh_onload_callbacks\n    }\n    console.debug(\"Bokeh: all callbacks have finished\");\n  }\n\n  function load_libs(css_urls, js_urls, callback) {\n    if (css_urls == null) css_urls = [];\n    if (js_urls == null) js_urls = [];\n\n    root._bokeh_onload_callbacks.push(callback);\n    if (root._bokeh_is_loading > 0) {\n      console.debug(\"Bokeh: BokehJS is being loaded, scheduling callback at\", now());\n      return null;\n    }\n    if (js_urls == null || js_urls.length === 0) {\n      run_callbacks();\n      return null;\n    }\n    console.debug(\"Bokeh: BokehJS not loaded, scheduling load and callback at\", now());\n    root._bokeh_is_loading = css_urls.length + js_urls.length;\n\n    function on_load() {\n      root._bokeh_is_loading--;\n      if (root._bokeh_is_loading === 0) {\n        console.debug(\"Bokeh: all BokehJS libraries/stylesheets loaded\");\n        run_callbacks()\n      }\n    }\n\n    function on_error() {\n      console.error(\"failed to load \" + url);\n    }\n\n    for (var i = 0; i < css_urls.length; i++) {\n      var url = css_urls[i];\n      const element = document.createElement(\"link\");\n      element.onload = on_load;\n      element.onerror = on_error;\n      element.rel = \"stylesheet\";\n      element.type = \"text/css\";\n      element.href = url;\n      console.debug(\"Bokeh: injecting link tag for BokehJS stylesheet: \", url);\n      document.body.appendChild(element);\n    }\n\n    const hashes = {\"https://cdn.bokeh.org/bokeh/release/bokeh-2.2.1.min.js\": \"qkRvDQVAIfzsJo40iRBbxt6sttt0hv4lh74DG7OK4MCHv4C5oohXYoHUM5W11uqS\", \"https://cdn.bokeh.org/bokeh/release/bokeh-widgets-2.2.1.min.js\": \"Sb7Mr06a9TNlet/GEBeKaf5xH3eb6AlCzwjtU82wNPyDrnfoiVl26qnvlKjmcAd+\", \"https://cdn.bokeh.org/bokeh/release/bokeh-tables-2.2.1.min.js\": \"HaJ15vgfmcfRtB4c4YBOI4f1MUujukqInOWVqZJZZGK7Q+ivud0OKGSTn/Vm2iso\"};\n\n    for (var i = 0; i < js_urls.length; i++) {\n      var url = js_urls[i];\n      var element = document.createElement('script');\n      element.onload = on_load;\n      element.onerror = on_error;\n      element.async = false;\n      element.src = url;\n      if (url in hashes) {\n        element.crossOrigin = \"anonymous\";\n        element.integrity = \"sha384-\" + hashes[url];\n      }\n      console.debug(\"Bokeh: injecting script tag for BokehJS library: \", url);\n      document.head.appendChild(element);\n    }\n  };\n\n  function inject_raw_css(css) {\n    const element = document.createElement(\"style\");\n    element.appendChild(document.createTextNode(css));\n    document.body.appendChild(element);\n  }\n\n  \n  var js_urls = [\"https://cdn.bokeh.org/bokeh/release/bokeh-2.2.1.min.js\", \"https://cdn.bokeh.org/bokeh/release/bokeh-widgets-2.2.1.min.js\", \"https://cdn.bokeh.org/bokeh/release/bokeh-tables-2.2.1.min.js\"];\n  var css_urls = [];\n  \n\n  var inline_js = [\n    function(Bokeh) {\n      Bokeh.set_log_level(\"info\");\n    },\n    function(Bokeh) {\n    \n    \n    }\n  ];\n\n  function run_inline_js() {\n    \n    if (root.Bokeh !== undefined || force === true) {\n      \n    for (var i = 0; i < inline_js.length; i++) {\n      inline_js[i].call(root, root.Bokeh);\n    }\n    if (force === true) {\n        display_loaded();\n      }} else if (Date.now() < root._bokeh_timeout) {\n      setTimeout(run_inline_js, 100);\n    } else if (!root._bokeh_failed_load) {\n      console.log(\"Bokeh: BokehJS failed to load within specified timeout.\");\n      root._bokeh_failed_load = true;\n    } else if (force !== true) {\n      var cell = $(document.getElementById(\"1480\")).parents('.cell').data().cell;\n      cell.output_area.append_execute_result(NB_LOAD_WARNING)\n    }\n\n  }\n\n  if (root._bokeh_is_loading === 0) {\n    console.debug(\"Bokeh: BokehJS loaded, going straight to plotting\");\n    run_inline_js();\n  } else {\n    load_libs(css_urls, js_urls, function() {\n      console.debug(\"Bokeh: BokehJS plotting callback run at\", now());\n      run_inline_js();\n    });\n  }\n}(window));"
     },
     "metadata": {},
     "output_type": "display_data"
    }
   ],
   "source": [
    "output_notebook()"
   ]
  },
  {
   "cell_type": "code",
   "execution_count": 127,
   "metadata": {},
   "outputs": [
    {
     "data": {
      "text/html": [
       "\n",
       "\n",
       "\n",
       "\n",
       "\n",
       "\n",
       "  <div class=\"bk-root\" id=\"aea605a8-348f-4551-b30a-40d53c9fa00e\" data-root-id=\"1711\"></div>\n"
      ]
     },
     "metadata": {},
     "output_type": "display_data"
    },
    {
     "data": {
      "application/javascript": [
       "(function(root) {\n",
       "  function embed_document(root) {\n",
       "    \n",
       "  var docs_json = {\"46523898-9139-414c-b770-5525399db9ec\":{\"roots\":{\"references\":[{\"attributes\":{\"below\":[{\"id\":\"1722\"}],\"center\":[{\"id\":\"1725\"},{\"id\":\"1729\"},{\"id\":\"1757\"}],\"left\":[{\"id\":\"1726\"}],\"renderers\":[{\"id\":\"1747\"},{\"id\":\"1762\"}],\"title\":{\"id\":\"1712\"},\"toolbar\":{\"id\":\"1737\"},\"x_range\":{\"id\":\"1714\"},\"x_scale\":{\"id\":\"1718\"},\"y_range\":{\"id\":\"1716\"},\"y_scale\":{\"id\":\"1720\"}},\"id\":\"1711\",\"subtype\":\"Figure\",\"type\":\"Plot\"},{\"attributes\":{},\"id\":\"1755\",\"type\":\"UnionRenderers\"},{\"attributes\":{\"data\":{\"x\":[1743,1744,1745,1750,1751,1752,1753,1754,1755,1756,1757,1758,1759,1760,1761,1762,1763,1764,1765,1766,1767,1768,1769,1770,1771,1772,1773,1774,1775,1776,1777,1778,1779,1780,1781,1782,1783,1784,1785,1786,1787,1788,1789,1790,1791,1792,1793,1794,1795,1796,1797,1798,1799,1800,1801,1802,1803,1804,1805,1806,1807,1808,1809,1810,1811,1812,1813,1814,1815,1816,1817,1818,1819,1820,1821,1822,1823,1824,1825,1826,1827,1828,1829,1830,1831,1832,1833,1834,1835,1836,1837,1838,1839,1840,1841,1842,1843,1844,1845,1846,1847,1848,1849,1850,1851,1852,1853,1854,1855,1856,1857,1858,1859,1860,1861,1862,1863,1864,1865,1866,1867,1868,1869,1870,1871,1872,1873,1874,1875,1876,1877,1878,1879,1880,1881,1882,1883,1884,1885,1886,1887,1888,1889,1890,1891,1892,1893,1894,1895,1896,1897,1898,1899,1900,1901,1902,1903,1904,1905,1906,1907,1908,1909,1910,1911,1912,1913,1914,1915,1916,1917,1918,1919,1920,1921,1922,1923,1924,1925,1926,1927,1928,1929,1930,1931,1932,1933,1934,1935,1936,1937,1938,1939,1940,1941,1942,1943,1944,1945,1946,1947,1948,1949,1950,1951,1952,1953,1954,1955,1956,1957,1958,1959,1960,1961,1962,1963,1964,1965,1966,1967,1968,1969,1970,1971,1972,1973,1974,1975,1976,1977,1978,1979,1980,1981,1982,1983,1984,1985,1986,1987,1988,1989,1990,1991,1992,1993,1994,1995,1996,1997,1998,1999,2000,2001,2002,2003,2004,2005,2006,2007,2008,2009,2010,2011,2012,2013],\"y\":{\"__ndarray__\":\"uB6F61G4HUAfhetRuJ4kQHsUrkfheghAFK5H4XoUJEDD9Shcj0IjQOF6FK5H4RdAKVyPwvUoIkBxPQrXo3AhQJqZmZmZGSFA16NwPQpXIkCamZmZmRkiQBSuR+F6lCFASOF6FK5HI0BI4XoUrkciQFK4HoXr0SJAKVyPwvUoIUDhehSuR+EgQKRwPQrXIyJAPQrXo3C9IUAzMzMzM7MhQAAAAAAAACFAuB6F61E4IUAfhetRuJ4hQK5H4XoUriFAcT0K16NwIECamZmZmZkiQBSuR+F6FCNAzczMzMzMIUBcj8L1KNwjQEjhehSuxyFAj8L1KFyPIUAfhetRuB4jQKRwPQrXIyVAAAAAAACAIkA9CtejcD0kQLgehetRuCBAj8L1KFyPI0AzMzMzMzMfQAAAAAAAACBA16NwPQrXH0Bcj8L1KFwiQK5H4XoUriFASOF6FK5HIUBSuB6F61EiQBSuR+F6lCJAMzMzMzMzIkDXo3A9ClciQGZmZmZmZiNArkfhehSuIUBcj8L1KFwiQArXo3A9CiNAUrgehevRIkAK16NwPQodQMP1KFyPwiFAuB6F61G4IkC4HoXrUbghQK5H4XoULiBArkfhehQuIUDhehSuR+EdQB+F61G4HiNAhetRuB4FIkBSuB6F69EgQEjhehSuRyFAcT0K16PwIECkcD0K1yMkQAAAAAAAACBAKVyPwvWoIUAK16NwPQofQAAAAAAAgCFAH4XrUbgeH0DhehSuR+EhQHE9Ctej8CJAmpmZmZkZI0C4HoXrUTggQBSuR+F6lCJA4XoUrkdhJEDhehSuR+EgQIXrUbgeBSNAAAAAAACAI0CPwvUoXI8jQPYoXI/C9SFAw/UoXI9CI0DNzMzMzMwcQBSuR+F6lCBApHA9CtejI0DNzMzMzEwhQLgehetROCJAexSuR+H6JEDD9Shcj0IiQBSuR+F6FCJACtejcD0KIUB7FK5H4XoeQNejcD0K1yFAMzMzMzOzIECuR+F6FK4iQLgehetROCJAZmZmZmZmIkB7FK5H4XogQPYoXI/C9R9AhetRuB6FJEA9CtejcD0hQLgehetROCJAmpmZmZmZIUDsUbgehesgQFK4HoXrUSFAUrgehetRI0AzMzMzMzMfQFK4HoXr0SFA4XoUrkfhHEAUrkfhepQhQKRwPQrXoyNApHA9CtcjIUAfhetRuJ4jQFyPwvUoXB9ACtejcD0KIkCamZmZmRkjQOxRuB6FayNAFK5H4XoUH0A9CtejcL0iQAAAAAAAACNAH4XrUbieIUDNzMzMzMwkQPYoXI/C9SFA7FG4HoVrIEDXo3A9CtcfQKRwPQrXIyRACtejcD2KIkAfhetRuB4iQLgehetRuCFAuB6F61E4IkC4HoXrUTgiQI/C9ShcjyJAcT0K16NwHUAUrkfhepQiQArXo3A9iiBAZmZmZmZmIkAAAAAAAAAiQHsUrkfheiNAmpmZmZkZIUCamZmZmZkhQPYoXI/C9R9AXI/C9ShcH0AUrkfhehQhQIXrUbgehSBAzczMzMzMIECuR+F6FK4gQJqZmZmZmSJA16NwPQpXIkDD9Shcj8IgQJqZmZmZmSFAAAAAAAAAIkCkcD0K1yMjQKRwPQrXoyJAMzMzMzOzIkCamZmZmZkhQKRwPQrXoyBAFK5H4XqUIkA9CtejcD0iQMP1KFyPwiFAmpmZmZmZIkD2KFyPwnUhQDMzMzMzMyFAmpmZmZmZIEDhehSuR+EiQFyPwvUo3CNA7FG4HoVrIkBI4XoUrkcjQOF6FK5HYSNAmpmZmZmZIUBmZmZmZmYiQKRwPQrXoyBAw/UoXI/CIkAzMzMzMzMgQAAAAAAAACNAmpmZmZkZJECF61G4HoUgQI/C9ShcjyFAw/UoXI9CIUBcj8L1KFwiQMP1KFyPQiNAexSuR+H6IUC4HoXrUbgiQM3MzMzMzCBAhetRuB6FI0ApXI/C9aghQOF6FK5H4SJAMzMzMzMzIkBxPQrXo3AkQM3MzMzMTCNA4XoUrkfhIkCkcD0K1yMjQBSuR+F6lCNAuB6F61E4I0CamZmZmRkgQBSuR+F6FCFAH4XrUbieIEApXI/C9agjQMP1KFyPwiJAj8L1KFwPJEDXo3A9ClciQFK4HoXr0SJA7FG4HoXrI0A9CtejcD0kQPYoXI/C9SJApHA9CtcjI0DhehSuR+EhQKRwPQrXoyNA9ihcj8L1IUCuR+F6FK4hQM3MzMzMTCBASOF6FK7HI0DNzMzMzMwiQNejcD0KVyRA4XoUrkdhI0DhehSuR+EjQD0K16NwPSBAPQrXo3A9H0Bcj8L1KFwiQHsUrkfheiFAcT0K16PwIkDXo3A9CtcjQEjhehSuRyJAXI/C9ShcIkCkcD0K1yMiQIXrUbgeBSNA7FG4HoXrIUDhehSuR+EiQPYoXI/CdSNAPQrXo3C9I0CkcD0K16MjQFK4HoXrUSNAZmZmZmbmIUBmZmZmZuYgQD0K16NwPSJAhetRuB6FIkD2KFyPwvUjQGZmZmZm5iNArkfhehSuIkDXo3A9CtcgQBSuR+F6lCFAUrgehetRIUDsUbgehWskQKRwPQrXIyVAw/UoXI9CJUCkcD0K16MiQEjhehSuxyRAcT0K16PwIkBmZmZmZuYkQAAAAAAAgCRApHA9CtejIECPwvUoXA8kQFyPwvUoXCRAexSuR+F6JUAAAAAAAIAlQHsUrkfheiRASOF6FK5HJUCPwvUoXI8kQArXo3A9iiRA9ihcj8L1JEBxPQrXo/AlQBSuR+F6FCZA16NwPQrXJEApXI/C9agkQK5H4XoUriFA9ihcj8J1JUApXI/C9SgkQBSuR+F6FCNA\",\"dtype\":\"float64\",\"order\":\"little\",\"shape\":[267]}},\"selected\":{\"id\":\"1756\"},\"selection_policy\":{\"id\":\"1755\"}},\"id\":\"1744\",\"type\":\"ColumnDataSource\"},{\"attributes\":{\"bottom_units\":\"screen\",\"fill_alpha\":0.5,\"fill_color\":\"lightgrey\",\"left_units\":\"screen\",\"level\":\"overlay\",\"line_alpha\":1.0,\"line_color\":\"black\",\"line_dash\":[4,4],\"line_width\":2,\"right_units\":\"screen\",\"top_units\":\"screen\"},\"id\":\"1736\",\"type\":\"BoxAnnotation\"},{\"attributes\":{},\"id\":\"1723\",\"type\":\"BasicTicker\"},{\"attributes\":{\"label\":{\"value\":\"Amsterdam\"},\"renderers\":[{\"id\":\"1747\"}]},\"id\":\"1758\",\"type\":\"LegendItem\"},{\"attributes\":{\"line_color\":\"#1f77b4\",\"line_width\":3,\"x\":{\"field\":\"x\"},\"y\":{\"field\":\"y\"}},\"id\":\"1745\",\"type\":\"Line\"},{\"attributes\":{\"axis_label\":\"Year\",\"formatter\":{\"id\":\"1750\"},\"ticker\":{\"id\":\"1723\"}},\"id\":\"1722\",\"type\":\"LinearAxis\"},{\"attributes\":{},\"id\":\"1733\",\"type\":\"SaveTool\"},{\"attributes\":{},\"id\":\"1735\",\"type\":\"HelpTool\"},{\"attributes\":{},\"id\":\"1714\",\"type\":\"DataRange1d\"},{\"attributes\":{\"axis\":{\"id\":\"1722\"},\"grid_line_alpha\":0.3,\"ticker\":null},\"id\":\"1725\",\"type\":\"Grid\"},{\"attributes\":{\"label\":{\"value\":\"Copenhagen\"},\"renderers\":[{\"id\":\"1762\"}]},\"id\":\"1774\",\"type\":\"LegendItem\"},{\"attributes\":{\"axis_label\":\"Average Temperature\",\"formatter\":{\"id\":\"1752\"},\"ticker\":{\"id\":\"1727\"}},\"id\":\"1726\",\"type\":\"LinearAxis\"},{\"attributes\":{},\"id\":\"1773\",\"type\":\"Selection\"},{\"attributes\":{\"overlay\":{\"id\":\"1736\"}},\"id\":\"1732\",\"type\":\"BoxZoomTool\"},{\"attributes\":{\"source\":{\"id\":\"1759\"}},\"id\":\"1763\",\"type\":\"CDSView\"},{\"attributes\":{},\"id\":\"1750\",\"type\":\"BasicTickFormatter\"},{\"attributes\":{},\"id\":\"1731\",\"type\":\"WheelZoomTool\"},{\"attributes\":{\"items\":[{\"id\":\"1758\"},{\"id\":\"1774\"}]},\"id\":\"1757\",\"type\":\"Legend\"},{\"attributes\":{},\"id\":\"1772\",\"type\":\"UnionRenderers\"},{\"attributes\":{\"axis\":{\"id\":\"1726\"},\"dimension\":1,\"grid_line_alpha\":0.3,\"ticker\":null},\"id\":\"1729\",\"type\":\"Grid\"},{\"attributes\":{\"line_color\":\"#ff5733\",\"line_width\":3,\"x\":{\"field\":\"x\"},\"y\":{\"field\":\"y\"}},\"id\":\"1760\",\"type\":\"Line\"},{\"attributes\":{\"line_alpha\":0.1,\"line_color\":\"#ff5733\",\"line_width\":3,\"x\":{\"field\":\"x\"},\"y\":{\"field\":\"y\"}},\"id\":\"1761\",\"type\":\"Line\"},{\"attributes\":{\"text\":\"Average city temperatures\"},\"id\":\"1712\",\"type\":\"Title\"},{\"attributes\":{\"active_drag\":\"auto\",\"active_inspect\":\"auto\",\"active_multi\":null,\"active_scroll\":\"auto\",\"active_tap\":\"auto\",\"tools\":[{\"id\":\"1730\"},{\"id\":\"1731\"},{\"id\":\"1732\"},{\"id\":\"1733\"},{\"id\":\"1734\"},{\"id\":\"1735\"}]},\"id\":\"1737\",\"type\":\"Toolbar\"},{\"attributes\":{\"data\":{\"x\":[1743,1744,1745,1750,1751,1752,1753,1754,1755,1756,1757,1758,1759,1760,1761,1762,1763,1764,1765,1766,1767,1768,1769,1770,1771,1772,1773,1774,1775,1776,1777,1778,1779,1780,1781,1782,1783,1784,1785,1786,1787,1788,1789,1790,1791,1792,1793,1794,1795,1796,1797,1798,1799,1800,1801,1802,1803,1804,1805,1806,1807,1808,1809,1810,1811,1812,1813,1814,1815,1816,1817,1818,1819,1820,1821,1822,1823,1824,1825,1826,1827,1828,1829,1830,1831,1832,1833,1834,1835,1836,1837,1838,1839,1840,1841,1842,1843,1844,1845,1846,1847,1848,1849,1850,1851,1852,1853,1854,1855,1856,1857,1858,1859,1860,1861,1862,1863,1864,1865,1866,1867,1868,1869,1870,1871,1872,1873,1874,1875,1876,1877,1878,1879,1880,1881,1882,1883,1884,1885,1886,1887,1888,1889,1890,1891,1892,1893,1894,1895,1896,1897,1898,1899,1900,1901,1902,1903,1904,1905,1906,1907,1908,1909,1910,1911,1912,1913,1914,1915,1916,1917,1918,1919,1920,1921,1922,1923,1924,1925,1926,1927,1928,1929,1930,1931,1932,1933,1934,1935,1936,1937,1938,1939,1940,1941,1942,1943,1944,1945,1946,1947,1948,1949,1950,1951,1952,1953,1954,1955,1956,1957,1958,1959,1960,1961,1962,1963,1964,1965,1966,1967,1968,1969,1970,1971,1972,1973,1974,1975,1976,1977,1978,1979,1980,1981,1982,1983,1984,1985,1986,1987,1988,1989,1990,1991,1992,1993,1994,1995,1996,1997,1998,1999,2000,2001,2002,2003,2004,2005,2006,2007,2008,2009,2010,2011,2012,2013],\"y\":{\"__ndarray__\":\"exSuR+F6GUAUrkfhepQiQArXo3A9Crc/SOF6FK7HIUApXI/C9aggQOF6FK5H4RBAcT0K16NwHkDXo3A9CtcdQB+F61G4Hh1AzczMzMxMIEBSuB6F61EgQK5H4XoUrhxAj8L1KFyPIEBSuB6F61EfQBSuR+F6FCFAj8L1KFyPHUBSuB6F61EdQEjhehSuRx9AuB6F61G4HUCPwvUoXA8gQI/C9ShcjxxAw/UoXI/CHEBmZmZmZmYeQGZmZmZmZh5AmpmZmZmZGkB7FK5H4XoeQEjhehSuRyFApHA9CtejHEA9CtejcL0hQOxRuB6F6x5AXI/C9ShcHUDNzMzMzEwgQJqZmZmZGSNAH4XrUbgeH0CkcD0K16MhQIXrUbgehRxAZmZmZmZmIUDhehSuR+EZQHE9CtejcBpAPQrXo3A9GkCF61G4HgUgQDMzMzMzMx1AuB6F61E4IEDD9Shcj0IgQIXrUbgeBSFApHA9CtejH0A9CtejcD0gQFyPwvUo3CFA9ihcj8L1HUAzMzMzMzMgQFK4HoXr0SFAKVyPwvUoIUCPwvUoXI8XQFK4HoXrUR1AXI/C9SjcIEAfhetRuB4fQPYoXI/C9RtAZmZmZmZmHUCF61G4HoUZQGZmZmZmZiBA9ihcj8L1H0CuR+F6FK4dQI/C9Shcjx1APQrXo3A9HUAK16NwPYohQMP1KFyPwhlAZmZmZmZmH0C4HoXrUbgZQArXo3A9Ch5A7FG4HoXrGkBI4XoUrkcfQGZmZmZmZiBACtejcD0KIUC4HoXrUbgbQM3MzMzMzB9A4XoUrkdhIkBmZmZmZmYdQClcj8L1KCFA16NwPQrXIEAK16NwPYohQHsUrkfheh9A9ihcj8L1H0AUrkfhehQXQClcj8L1KBxAzczMzMxMIECPwvUoXI8eQFK4HoXrUR9AZmZmZmZmIkCPwvUoXI8fQJqZmZmZmR5AFK5H4XoUHUAzMzMzMzMYQArXo3A9Ch1ACtejcD0KG0B7FK5H4XoeQHE9CtejcCBAuB6F61E4IEDhehSuR+EaQI/C9ShcjxtACtejcD0KIkAK16NwPQoeQAAAAAAAAB9AKVyPwvUoHEAzMzMzMzMdQArXo3A9Ch9AKVyPwvWoIEAK16NwPQobQFyPwvUoXB9Aw/UoXI/CGEB7FK5H4XocQJqZmZmZGSFA7FG4HoXrHkBcj8L1KFwhQLgehetRuBtAmpmZmZmZH0AK16NwPQoeQIXrUbgehSFAcT0K16NwGkAAAAAAAAAfQNejcD0KVyBAFK5H4XoUG0BxPQrXo/AhQHE9CtejcB9AUrgehetRG0Bcj8L1KFwZQK5H4XoUriFAUrgehetRIEBSuB6F61EgQAAAAAAAAB1Aw/UoXI/CHUAAAAAAAAAdQI/C9ShcjyBACtejcD0KGUCuR+F6FK4fQMP1KFyPwhlAhetRuB4FIUDsUbgeheseQNejcD0K1yBAhetRuB6FHUAUrkfhehQeQD0K16NwPR1ArkfhehSuGUDD9Shcj8IeQHsUrkfheh5AH4XrUbgeHkBcj8L1KFwcQLgehetRuB1ArkfhehSuIEDsUbgehescQHE9CtejcCBAj8L1KFyPH0D2KFyPwnUgQArXo3A9iiBA16NwPQrXH0CF61G4HoUfQNejcD0K1xpAmpmZmZkZIEC4HoXrUbgfQIXrUbgehR9Aw/UoXI/CIECamZmZmZkdQPYoXI/C9R5AFK5H4XoUHEDXo3A9ClchQEjhehSuxyFAj8L1KFyPHkCuR+F6FC4hQAAAAAAAACJAuB6F61G4HEDsUbgehesfQAAAAAAAAB5AmpmZmZkZIEAzMzMzMzMcQDMzMzMzsyBACtejcD2KIUCamZmZmZkbQOxRuB6F6xxAH4XrUbgeHUApXI/C9aggQBSuR+F6lCBAmpmZmZmZHkDD9Shcj8IeQOF6FK5H4RtAPQrXo3A9IUBI4XoUrkcdQPYoXI/C9SBA7FG4HoVrIEAzMzMzMzMjQArXo3A9CiFAuB6F61G4IEBSuB6F69EgQOxRuB6FayJAMzMzMzMzIUBxPQrXo3AZQJqZmZmZmRpAcT0K16NwGUCkcD0K16MhQGZmZmZm5iBArkfhehSuIUAAAAAAAAAgQK5H4XoUrh5ACtejcD2KIUCamZmZmZkiQFK4HoXr0SBA4XoUrkfhIEDXo3A9CtcdQPYoXI/C9SFAUrgehetRHkBxPQrXo3AeQIXrUbgehRtAMzMzMzOzIECamZmZmZkeQBSuR+F6FCJAmpmZmZkZIEAzMzMzM7MhQGZmZmZmZh1ACtejcD0KHEBxPQrXo3AfQHE9CtejcB1ApHA9CtejHkC4HoXrUbghQIXrUbgehSBAzczMzMzMHkApXI/C9SgdQIXrUbgeBSFAXI/C9ShcIECkcD0K1yMhQMP1KFyPwiFAFK5H4XqUIkDNzMzMzEwgQD0K16NwvSBAuB6F61G4H0ApXI/C9SgcQClcj8L1KB5AMzMzMzMzH0CamZmZmRkhQEjhehSuxyFAuB6F61G4IED2KFyPwvUbQBSuR+F6FB5A7FG4HoXrG0BSuB6F69EhQFK4HoXrUSNAKVyPwvWoI0A9CtejcD0hQHE9Ctej8CJAUrgehetRIEDNzMzMzEwiQAAAAAAAgCFAPQrXo3A9HUBSuB6F69EhQM3MzMzMTCFAPQrXo3C9IkDXo3A9ClcjQI/C9ShcjyFAFK5H4XoUI0CamZmZmRkiQAAAAAAAACJAuB6F61E4IkB7FK5H4XojQD0K16NwvSNApHA9CtejI0BxPQrXo3AiQClcj8L1KB5AH4XrUbieIkBmZmZmZmYhQB+F61G4niFA\",\"dtype\":\"float64\",\"order\":\"little\",\"shape\":[267]}},\"selected\":{\"id\":\"1773\"},\"selection_policy\":{\"id\":\"1772\"}},\"id\":\"1759\",\"type\":\"ColumnDataSource\"},{\"attributes\":{},\"id\":\"1720\",\"type\":\"LinearScale\"},{\"attributes\":{},\"id\":\"1727\",\"type\":\"BasicTicker\"},{\"attributes\":{\"data_source\":{\"id\":\"1744\"},\"glyph\":{\"id\":\"1745\"},\"hover_glyph\":null,\"muted_glyph\":null,\"nonselection_glyph\":{\"id\":\"1746\"},\"selection_glyph\":null,\"view\":{\"id\":\"1748\"}},\"id\":\"1747\",\"type\":\"GlyphRenderer\"},{\"attributes\":{\"data_source\":{\"id\":\"1759\"},\"glyph\":{\"id\":\"1760\"},\"hover_glyph\":null,\"muted_glyph\":null,\"nonselection_glyph\":{\"id\":\"1761\"},\"selection_glyph\":null,\"view\":{\"id\":\"1763\"}},\"id\":\"1762\",\"type\":\"GlyphRenderer\"},{\"attributes\":{},\"id\":\"1752\",\"type\":\"BasicTickFormatter\"},{\"attributes\":{},\"id\":\"1716\",\"type\":\"DataRange1d\"},{\"attributes\":{},\"id\":\"1730\",\"type\":\"PanTool\"},{\"attributes\":{\"source\":{\"id\":\"1744\"}},\"id\":\"1748\",\"type\":\"CDSView\"},{\"attributes\":{},\"id\":\"1756\",\"type\":\"Selection\"},{\"attributes\":{},\"id\":\"1734\",\"type\":\"ResetTool\"},{\"attributes\":{},\"id\":\"1718\",\"type\":\"LinearScale\"},{\"attributes\":{\"line_alpha\":0.1,\"line_color\":\"#1f77b4\",\"line_width\":3,\"x\":{\"field\":\"x\"},\"y\":{\"field\":\"y\"}},\"id\":\"1746\",\"type\":\"Line\"}],\"root_ids\":[\"1711\"]},\"title\":\"Bokeh Application\",\"version\":\"2.2.1\"}};\n",
       "  var render_items = [{\"docid\":\"46523898-9139-414c-b770-5525399db9ec\",\"root_ids\":[\"1711\"],\"roots\":{\"1711\":\"aea605a8-348f-4551-b30a-40d53c9fa00e\"}}];\n",
       "  root.Bokeh.embed.embed_items_notebook(docs_json, render_items);\n",
       "\n",
       "  }\n",
       "  if (root.Bokeh !== undefined) {\n",
       "    embed_document(root);\n",
       "  } else {\n",
       "    var attempts = 0;\n",
       "    var timer = setInterval(function(root) {\n",
       "      if (root.Bokeh !== undefined) {\n",
       "        clearInterval(timer);\n",
       "        embed_document(root);\n",
       "      } else {\n",
       "        attempts++;\n",
       "        if (attempts > 100) {\n",
       "          clearInterval(timer);\n",
       "          console.log(\"Bokeh: ERROR: Unable to run BokehJS code because BokehJS library is missing\");\n",
       "        }\n",
       "      }\n",
       "    }, 10, root)\n",
       "  }\n",
       "})(window);"
      ],
      "application/vnd.bokehjs_exec.v0+json": ""
     },
     "metadata": {
      "application/vnd.bokehjs_exec.v0+json": {
       "id": "1711"
      }
     },
     "output_type": "display_data"
    },
    {
     "data": {
      "text/plain": [
       "'C:\\\\Users\\\\lpede\\\\OneDrive\\\\Data Analyst Nano Degree\\\\Notebooks\\\\p.png'"
      ]
     },
     "execution_count": 127,
     "metadata": {},
     "output_type": "execute_result"
    }
   ],
   "source": [
    "show(p)\n",
    "export_png(p, filename = \"p.png\")"
   ]
  },
  {
   "cell_type": "markdown",
   "metadata": {},
   "source": [
    "These lines are prette jagged, therefore a smoothing using a moving average is necessary. We can use the inbuilt panda function"
   ]
  },
  {
   "cell_type": "markdown",
   "metadata": {},
   "source": [
    "#### moving average\n",
    "\n",
    "The moving average can be calculated using a in built panda function\n",
    "`df['column name'] = df.iloc[rows,column].rolling(window= x).mean()`\n",
    "We will take a 5 year rolling average to start and see if this smooths out the graph"
   ]
  },
  {
   "cell_type": "code",
   "execution_count": 114,
   "metadata": {},
   "outputs": [],
   "source": [
    "city_amsterdam['temp_mov'] = city_amsterdam.iloc[:,3].rolling(window=5).mean()\n",
    "city_copenhagen['temp_mov'] = city_copenhagen.iloc[:,3].rolling(window=5).mean()\n",
    "world['temp_mov'] = world.iloc[:,1].rolling(window=5).mean()"
   ]
  },
  {
   "cell_type": "markdown",
   "metadata": {},
   "source": [
    "Plotting the new lines using the *temp_mov* parameters in each set"
   ]
  },
  {
   "cell_type": "code",
   "execution_count": 121,
   "metadata": {},
   "outputs": [
    {
     "data": {
      "text/html": [
       "<div style=\"display: table;\"><div style=\"display: table-row;\"><div style=\"display: table-cell;\"><b title=\"bokeh.models.renderers.GlyphRenderer\">GlyphRenderer</b>(</div><div style=\"display: table-cell;\">id&nbsp;=&nbsp;'2301', <span id=\"2317\" style=\"cursor: pointer;\">&hellip;)</span></div></div><div class=\"2316\" style=\"display: none;\"><div style=\"display: table-cell;\"></div><div style=\"display: table-cell;\">data_source&nbsp;=&nbsp;ColumnDataSource(id='2298', ...),</div></div><div class=\"2316\" style=\"display: none;\"><div style=\"display: table-cell;\"></div><div style=\"display: table-cell;\">glyph&nbsp;=&nbsp;Line(id='2299', ...),</div></div><div class=\"2316\" style=\"display: none;\"><div style=\"display: table-cell;\"></div><div style=\"display: table-cell;\">hover_glyph&nbsp;=&nbsp;None,</div></div><div class=\"2316\" style=\"display: none;\"><div style=\"display: table-cell;\"></div><div style=\"display: table-cell;\">js_event_callbacks&nbsp;=&nbsp;{},</div></div><div class=\"2316\" style=\"display: none;\"><div style=\"display: table-cell;\"></div><div style=\"display: table-cell;\">js_property_callbacks&nbsp;=&nbsp;{},</div></div><div class=\"2316\" style=\"display: none;\"><div style=\"display: table-cell;\"></div><div style=\"display: table-cell;\">level&nbsp;=&nbsp;'glyph',</div></div><div class=\"2316\" style=\"display: none;\"><div style=\"display: table-cell;\"></div><div style=\"display: table-cell;\">muted&nbsp;=&nbsp;False,</div></div><div class=\"2316\" style=\"display: none;\"><div style=\"display: table-cell;\"></div><div style=\"display: table-cell;\">muted_glyph&nbsp;=&nbsp;None,</div></div><div class=\"2316\" style=\"display: none;\"><div style=\"display: table-cell;\"></div><div style=\"display: table-cell;\">name&nbsp;=&nbsp;None,</div></div><div class=\"2316\" style=\"display: none;\"><div style=\"display: table-cell;\"></div><div style=\"display: table-cell;\">nonselection_glyph&nbsp;=&nbsp;Line(id='2300', ...),</div></div><div class=\"2316\" style=\"display: none;\"><div style=\"display: table-cell;\"></div><div style=\"display: table-cell;\">selection_glyph&nbsp;=&nbsp;None,</div></div><div class=\"2316\" style=\"display: none;\"><div style=\"display: table-cell;\"></div><div style=\"display: table-cell;\">subscribed_events&nbsp;=&nbsp;[],</div></div><div class=\"2316\" style=\"display: none;\"><div style=\"display: table-cell;\"></div><div style=\"display: table-cell;\">tags&nbsp;=&nbsp;[],</div></div><div class=\"2316\" style=\"display: none;\"><div style=\"display: table-cell;\"></div><div style=\"display: table-cell;\">view&nbsp;=&nbsp;CDSView(id='2302', ...),</div></div><div class=\"2316\" style=\"display: none;\"><div style=\"display: table-cell;\"></div><div style=\"display: table-cell;\">visible&nbsp;=&nbsp;True,</div></div><div class=\"2316\" style=\"display: none;\"><div style=\"display: table-cell;\"></div><div style=\"display: table-cell;\">x_range_name&nbsp;=&nbsp;'default',</div></div><div class=\"2316\" style=\"display: none;\"><div style=\"display: table-cell;\"></div><div style=\"display: table-cell;\">y_range_name&nbsp;=&nbsp;'default')</div></div></div>\n",
       "<script>\n",
       "(function() {\n",
       "  var expanded = false;\n",
       "  var ellipsis = document.getElementById(\"2317\");\n",
       "  ellipsis.addEventListener(\"click\", function() {\n",
       "    var rows = document.getElementsByClassName(\"2316\");\n",
       "    for (var i = 0; i < rows.length; i++) {\n",
       "      var el = rows[i];\n",
       "      el.style.display = expanded ? \"none\" : \"table-row\";\n",
       "    }\n",
       "    ellipsis.innerHTML = expanded ? \"&hellip;)\" : \"&lsaquo;&lsaquo;&lsaquo;\";\n",
       "    expanded = !expanded;\n",
       "  });\n",
       "})();\n",
       "</script>\n"
      ],
      "text/plain": [
       "GlyphRenderer(id='2301', ...)"
      ]
     },
     "execution_count": 121,
     "metadata": {},
     "output_type": "execute_result"
    }
   ],
   "source": [
    "p_smooth = figure(title = \"temperature comparison city-world, 5 year moving average\")\n",
    "p_smooth.grid.grid_line_alpha = 0.3\n",
    "p_smooth.xaxis.axis_label = \"Year\"\n",
    "p_smooth.yaxis.axis_label = \"Average Temperature\"\n",
    "p_smooth.line(city_amsterdam[\"year\"], city_amsterdam[\"temp_mov\"], line_width = 3, legend_label = \"Amsterdam\")\n",
    "p_smooth.line(city_copenhagen[\"year\"], city_copenhagen[\"temp_mov\"], line_width = 3, color = \"#ff5733\", legend_label = \"Copenhagen\")\n",
    "p_smooth.line(world[\"year\"], world[\"temp_mov\"], line_width = 3, color = \"#33ff4f\", legend_label = \"World\",)"
   ]
  },
  {
   "cell_type": "code",
   "execution_count": 126,
   "metadata": {},
   "outputs": [
    {
     "data": {
      "text/html": [
       "\n",
       "\n",
       "\n",
       "\n",
       "\n",
       "\n",
       "  <div class=\"bk-root\" id=\"18917348-54b4-4e5a-b532-c8dff10c020e\" data-root-id=\"2234\"></div>\n"
      ]
     },
     "metadata": {},
     "output_type": "display_data"
    },
    {
     "data": {
      "application/javascript": [
       "(function(root) {\n",
       "  function embed_document(root) {\n",
       "    \n",
       "  var docs_json = {\"64dfb75d-de3b-47f6-b508-a5a83cf1f4ed\":{\"roots\":{\"references\":[{\"attributes\":{\"below\":[{\"id\":\"2245\"}],\"center\":[{\"id\":\"2248\"},{\"id\":\"2252\"},{\"id\":\"2280\"}],\"left\":[{\"id\":\"2249\"}],\"renderers\":[{\"id\":\"2270\"},{\"id\":\"2285\"},{\"id\":\"2301\"}],\"title\":{\"id\":\"2235\"},\"toolbar\":{\"id\":\"2260\"},\"x_range\":{\"id\":\"2237\"},\"x_scale\":{\"id\":\"2241\"},\"y_range\":{\"id\":\"2239\"},\"y_scale\":{\"id\":\"2243\"}},\"id\":\"2234\",\"subtype\":\"Figure\",\"type\":\"Plot\"},{\"attributes\":{},\"id\":\"2246\",\"type\":\"BasicTicker\"},{\"attributes\":{\"active_drag\":\"auto\",\"active_inspect\":\"auto\",\"active_multi\":null,\"active_scroll\":\"auto\",\"active_tap\":\"auto\",\"tools\":[{\"id\":\"2253\"},{\"id\":\"2254\"},{\"id\":\"2255\"},{\"id\":\"2256\"},{\"id\":\"2257\"},{\"id\":\"2258\"}]},\"id\":\"2260\",\"type\":\"Toolbar\"},{\"attributes\":{\"line_color\":\"#ff5733\",\"line_width\":3,\"x\":{\"field\":\"x\"},\"y\":{\"field\":\"y\"}},\"id\":\"2283\",\"type\":\"Line\"},{\"attributes\":{},\"id\":\"2237\",\"type\":\"DataRange1d\"},{\"attributes\":{\"axis_label\":\"Average Temperature\",\"formatter\":{\"id\":\"2275\"},\"ticker\":{\"id\":\"2250\"}},\"id\":\"2249\",\"type\":\"LinearAxis\"},{\"attributes\":{\"data_source\":{\"id\":\"2298\"},\"glyph\":{\"id\":\"2299\"},\"hover_glyph\":null,\"muted_glyph\":null,\"nonselection_glyph\":{\"id\":\"2300\"},\"selection_glyph\":null,\"view\":{\"id\":\"2302\"}},\"id\":\"2301\",\"type\":\"GlyphRenderer\"},{\"attributes\":{\"source\":{\"id\":\"2282\"}},\"id\":\"2286\",\"type\":\"CDSView\"},{\"attributes\":{},\"id\":\"2239\",\"type\":\"DataRange1d\"},{\"attributes\":{},\"id\":\"2275\",\"type\":\"BasicTickFormatter\"},{\"attributes\":{},\"id\":\"2256\",\"type\":\"SaveTool\"},{\"attributes\":{},\"id\":\"2296\",\"type\":\"Selection\"},{\"attributes\":{},\"id\":\"2258\",\"type\":\"HelpTool\"},{\"attributes\":{\"axis\":{\"id\":\"2249\"},\"dimension\":1,\"grid_line_alpha\":0.3,\"ticker\":null},\"id\":\"2252\",\"type\":\"Grid\"},{\"attributes\":{},\"id\":\"2279\",\"type\":\"Selection\"},{\"attributes\":{},\"id\":\"2257\",\"type\":\"ResetTool\"},{\"attributes\":{\"source\":{\"id\":\"2298\"}},\"id\":\"2302\",\"type\":\"CDSView\"},{\"attributes\":{\"bottom_units\":\"screen\",\"fill_alpha\":0.5,\"fill_color\":\"lightgrey\",\"left_units\":\"screen\",\"level\":\"overlay\",\"line_alpha\":1.0,\"line_color\":\"black\",\"line_dash\":[4,4],\"line_width\":2,\"right_units\":\"screen\",\"top_units\":\"screen\"},\"id\":\"2259\",\"type\":\"BoxAnnotation\"},{\"attributes\":{},\"id\":\"2295\",\"type\":\"UnionRenderers\"},{\"attributes\":{\"line_color\":\"#33ff4f\",\"line_width\":3,\"x\":{\"field\":\"x\"},\"y\":{\"field\":\"y\"}},\"id\":\"2299\",\"type\":\"Line\"},{\"attributes\":{\"axis_label\":\"Year\",\"formatter\":{\"id\":\"2273\"},\"ticker\":{\"id\":\"2246\"}},\"id\":\"2245\",\"type\":\"LinearAxis\"},{\"attributes\":{\"label\":{\"value\":\"Amsterdam\"},\"renderers\":[{\"id\":\"2270\"}]},\"id\":\"2281\",\"type\":\"LegendItem\"},{\"attributes\":{\"text\":\"temperature comparison city-world, 5 year moving average\"},\"id\":\"2235\",\"type\":\"Title\"},{\"attributes\":{\"line_alpha\":0.1,\"line_color\":\"#1f77b4\",\"line_width\":3,\"x\":{\"field\":\"x\"},\"y\":{\"field\":\"y\"}},\"id\":\"2269\",\"type\":\"Line\"},{\"attributes\":{},\"id\":\"2254\",\"type\":\"WheelZoomTool\"},{\"attributes\":{\"label\":{\"value\":\"Copenhagen\"},\"renderers\":[{\"id\":\"2285\"}]},\"id\":\"2297\",\"type\":\"LegendItem\"},{\"attributes\":{},\"id\":\"2313\",\"type\":\"UnionRenderers\"},{\"attributes\":{},\"id\":\"2273\",\"type\":\"BasicTickFormatter\"},{\"attributes\":{\"line_alpha\":0.1,\"line_color\":\"#ff5733\",\"line_width\":3,\"x\":{\"field\":\"x\"},\"y\":{\"field\":\"y\"}},\"id\":\"2284\",\"type\":\"Line\"},{\"attributes\":{\"line_alpha\":0.1,\"line_color\":\"#33ff4f\",\"line_width\":3,\"x\":{\"field\":\"x\"},\"y\":{\"field\":\"y\"}},\"id\":\"2300\",\"type\":\"Line\"},{\"attributes\":{\"data_source\":{\"id\":\"2282\"},\"glyph\":{\"id\":\"2283\"},\"hover_glyph\":null,\"muted_glyph\":null,\"nonselection_glyph\":{\"id\":\"2284\"},\"selection_glyph\":null,\"view\":{\"id\":\"2286\"}},\"id\":\"2285\",\"type\":\"GlyphRenderer\"},{\"attributes\":{},\"id\":\"2314\",\"type\":\"Selection\"},{\"attributes\":{\"axis\":{\"id\":\"2245\"},\"grid_line_alpha\":0.3,\"ticker\":null},\"id\":\"2248\",\"type\":\"Grid\"},{\"attributes\":{\"label\":{\"value\":\"World\"},\"renderers\":[{\"id\":\"2301\"}]},\"id\":\"2315\",\"type\":\"LegendItem\"},{\"attributes\":{\"data_source\":{\"id\":\"2267\"},\"glyph\":{\"id\":\"2268\"},\"hover_glyph\":null,\"muted_glyph\":null,\"nonselection_glyph\":{\"id\":\"2269\"},\"selection_glyph\":null,\"view\":{\"id\":\"2271\"}},\"id\":\"2270\",\"type\":\"GlyphRenderer\"},{\"attributes\":{\"items\":[{\"id\":\"2281\"},{\"id\":\"2297\"},{\"id\":\"2315\"}]},\"id\":\"2280\",\"type\":\"Legend\"},{\"attributes\":{},\"id\":\"2243\",\"type\":\"LinearScale\"},{\"attributes\":{},\"id\":\"2250\",\"type\":\"BasicTicker\"},{\"attributes\":{},\"id\":\"2241\",\"type\":\"LinearScale\"},{\"attributes\":{\"data\":{\"x\":[1743,1744,1745,1750,1751,1752,1753,1754,1755,1756,1757,1758,1759,1760,1761,1762,1763,1764,1765,1766,1767,1768,1769,1770,1771,1772,1773,1774,1775,1776,1777,1778,1779,1780,1781,1782,1783,1784,1785,1786,1787,1788,1789,1790,1791,1792,1793,1794,1795,1796,1797,1798,1799,1800,1801,1802,1803,1804,1805,1806,1807,1808,1809,1810,1811,1812,1813,1814,1815,1816,1817,1818,1819,1820,1821,1822,1823,1824,1825,1826,1827,1828,1829,1830,1831,1832,1833,1834,1835,1836,1837,1838,1839,1840,1841,1842,1843,1844,1845,1846,1847,1848,1849,1850,1851,1852,1853,1854,1855,1856,1857,1858,1859,1860,1861,1862,1863,1864,1865,1866,1867,1868,1869,1870,1871,1872,1873,1874,1875,1876,1877,1878,1879,1880,1881,1882,1883,1884,1885,1886,1887,1888,1889,1890,1891,1892,1893,1894,1895,1896,1897,1898,1899,1900,1901,1902,1903,1904,1905,1906,1907,1908,1909,1910,1911,1912,1913,1914,1915,1916,1917,1918,1919,1920,1921,1922,1923,1924,1925,1926,1927,1928,1929,1930,1931,1932,1933,1934,1935,1936,1937,1938,1939,1940,1941,1942,1943,1944,1945,1946,1947,1948,1949,1950,1951,1952,1953,1954,1955,1956,1957,1958,1959,1960,1961,1962,1963,1964,1965,1966,1967,1968,1969,1970,1971,1972,1973,1974,1975,1976,1977,1978,1979,1980,1981,1982,1983,1984,1985,1986,1987,1988,1989,1990,1991,1992,1993,1994,1995,1996,1997,1998,1999,2000,2001,2002,2003,2004,2005,2006,2007,2008,2009,2010,2011,2012,2013],\"y\":{\"__ndarray__\":\"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\",\"dtype\":\"float64\",\"order\":\"little\",\"shape\":[267]}},\"selected\":{\"id\":\"2296\"},\"selection_policy\":{\"id\":\"2295\"}},\"id\":\"2282\",\"type\":\"ColumnDataSource\"},{\"attributes\":{},\"id\":\"2253\",\"type\":\"PanTool\"},{\"attributes\":{\"overlay\":{\"id\":\"2259\"}},\"id\":\"2255\",\"type\":\"BoxZoomTool\"},{\"attributes\":{},\"id\":\"2278\",\"type\":\"UnionRenderers\"},{\"attributes\":{\"source\":{\"id\":\"2267\"}},\"id\":\"2271\",\"type\":\"CDSView\"},{\"attributes\":{\"data\":{\"x\":[1750,1751,1752,1753,1754,1755,1756,1757,1758,1759,1760,1761,1762,1763,1764,1765,1766,1767,1768,1769,1770,1771,1772,1773,1774,1775,1776,1777,1778,1779,1780,1781,1782,1783,1784,1785,1786,1787,1788,1789,1790,1791,1792,1793,1794,1795,1796,1797,1798,1799,1800,1801,1802,1803,1804,1805,1806,1807,1808,1809,1810,1811,1812,1813,1814,1815,1816,1817,1818,1819,1820,1821,1822,1823,1824,1825,1826,1827,1828,1829,1830,1831,1832,1833,1834,1835,1836,1837,1838,1839,1840,1841,1842,1843,1844,1845,1846,1847,1848,1849,1850,1851,1852,1853,1854,1855,1856,1857,1858,1859,1860,1861,1862,1863,1864,1865,1866,1867,1868,1869,1870,1871,1872,1873,1874,1875,1876,1877,1878,1879,1880,1881,1882,1883,1884,1885,1886,1887,1888,1889,1890,1891,1892,1893,1894,1895,1896,1897,1898,1899,1900,1901,1902,1903,1904,1905,1906,1907,1908,1909,1910,1911,1912,1913,1914,1915,1916,1917,1918,1919,1920,1921,1922,1923,1924,1925,1926,1927,1928,1929,1930,1931,1932,1933,1934,1935,1936,1937,1938,1939,1940,1941,1942,1943,1944,1945,1946,1947,1948,1949,1950,1951,1952,1953,1954,1955,1956,1957,1958,1959,1960,1961,1962,1963,1964,1965,1966,1967,1968,1969,1970,1971,1972,1973,1974,1975,1976,1977,1978,1979,1980,1981,1982,1983,1984,1985,1986,1987,1988,1989,1990,1991,1992,1993,1994,1995,1996,1997,1998,1999,2000,2001,2002,2003,2004,2005,2006,2007,2008,2009,2010,2011,2012,2013,2014,2015],\"y\":{\"__ndarray__\":\"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\",\"dtype\":\"float64\",\"order\":\"little\",\"shape\":[266]}},\"selected\":{\"id\":\"2314\"},\"selection_policy\":{\"id\":\"2313\"}},\"id\":\"2298\",\"type\":\"ColumnDataSource\"},{\"attributes\":{\"data\":{\"x\":[1743,1744,1745,1750,1751,1752,1753,1754,1755,1756,1757,1758,1759,1760,1761,1762,1763,1764,1765,1766,1767,1768,1769,1770,1771,1772,1773,1774,1775,1776,1777,1778,1779,1780,1781,1782,1783,1784,1785,1786,1787,1788,1789,1790,1791,1792,1793,1794,1795,1796,1797,1798,1799,1800,1801,1802,1803,1804,1805,1806,1807,1808,1809,1810,1811,1812,1813,1814,1815,1816,1817,1818,1819,1820,1821,1822,1823,1824,1825,1826,1827,1828,1829,1830,1831,1832,1833,1834,1835,1836,1837,1838,1839,1840,1841,1842,1843,1844,1845,1846,1847,1848,1849,1850,1851,1852,1853,1854,1855,1856,1857,1858,1859,1860,1861,1862,1863,1864,1865,1866,1867,1868,1869,1870,1871,1872,1873,1874,1875,1876,1877,1878,1879,1880,1881,1882,1883,1884,1885,1886,1887,1888,1889,1890,1891,1892,1893,1894,1895,1896,1897,1898,1899,1900,1901,1902,1903,1904,1905,1906,1907,1908,1909,1910,1911,1912,1913,1914,1915,1916,1917,1918,1919,1920,1921,1922,1923,1924,1925,1926,1927,1928,1929,1930,1931,1932,1933,1934,1935,1936,1937,1938,1939,1940,1941,1942,1943,1944,1945,1946,1947,1948,1949,1950,1951,1952,1953,1954,1955,1956,1957,1958,1959,1960,1961,1962,1963,1964,1965,1966,1967,1968,1969,1970,1971,1972,1973,1974,1975,1976,1977,1978,1979,1980,1981,1982,1983,1984,1985,1986,1987,1988,1989,1990,1991,1992,1993,1994,1995,1996,1997,1998,1999,2000,2001,2002,2003,2004,2005,2006,2007,2008,2009,2010,2011,2012,2013],\"y\":{\"__ndarray__\":\"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\",\"dtype\":\"float64\",\"order\":\"little\",\"shape\":[267]}},\"selected\":{\"id\":\"2279\"},\"selection_policy\":{\"id\":\"2278\"}},\"id\":\"2267\",\"type\":\"ColumnDataSource\"},{\"attributes\":{\"line_color\":\"#1f77b4\",\"line_width\":3,\"x\":{\"field\":\"x\"},\"y\":{\"field\":\"y\"}},\"id\":\"2268\",\"type\":\"Line\"}],\"root_ids\":[\"2234\"]},\"title\":\"Bokeh Application\",\"version\":\"2.2.1\"}};\n",
       "  var render_items = [{\"docid\":\"64dfb75d-de3b-47f6-b508-a5a83cf1f4ed\",\"root_ids\":[\"2234\"],\"roots\":{\"2234\":\"18917348-54b4-4e5a-b532-c8dff10c020e\"}}];\n",
       "  root.Bokeh.embed.embed_items_notebook(docs_json, render_items);\n",
       "\n",
       "  }\n",
       "  if (root.Bokeh !== undefined) {\n",
       "    embed_document(root);\n",
       "  } else {\n",
       "    var attempts = 0;\n",
       "    var timer = setInterval(function(root) {\n",
       "      if (root.Bokeh !== undefined) {\n",
       "        clearInterval(timer);\n",
       "        embed_document(root);\n",
       "      } else {\n",
       "        attempts++;\n",
       "        if (attempts > 100) {\n",
       "          clearInterval(timer);\n",
       "          console.log(\"Bokeh: ERROR: Unable to run BokehJS code because BokehJS library is missing\");\n",
       "        }\n",
       "      }\n",
       "    }, 10, root)\n",
       "  }\n",
       "})(window);"
      ],
      "application/vnd.bokehjs_exec.v0+json": ""
     },
     "metadata": {
      "application/vnd.bokehjs_exec.v0+json": {
       "id": "2234"
      }
     },
     "output_type": "display_data"
    },
    {
     "data": {
      "text/plain": [
       "'C:\\\\Users\\\\lpede\\\\OneDrive\\\\Data Analyst Nano Degree\\\\Notebooks\\\\p_smooth.png'"
      ]
     },
     "execution_count": 126,
     "metadata": {},
     "output_type": "execute_result"
    }
   ],
   "source": [
    "show(p_smooth)\n",
    "export_png(p_smooth, filename = \"p_smooth.png\")"
   ]
  },
  {
   "cell_type": "markdown",
   "metadata": {},
   "source": [
    "## Observations\n",
    "\n",
    "### World data \n",
    "\n",
    "It is clear that the world data is much more consistent, even with a 5 year moving average applied both the Amsterdam and Copenhagen data show large spikes. The world data shows a clear trend towards higher temperatures starting at +/- 1850. It is also curious that the spikes, present bevore 1850 seem to smooth out. Perhaps this is due to more and better measurements, presumably also from more sources in the modern era. \n",
    "\n",
    "### Amsterdam\n",
    "The Amsterdam data shows an average temperature consistently above the world average temperature. The dips and highs of the spikes correspond to those in the world and copenhagen data. However, as said before the world data smooths out in the five year average compared to the city data. As a result, the large dip in average tempreature around 1945 in the amsterdam data is not present in the world data. The winter of 1945 is described in history as notoriously cold. Perhaps this winter was a European phenomenon, corroborated by the Copenhagen data, which also shows a large dip around the same time.\n",
    "\n",
    "### Copenhagen\n",
    "The Copenhagen data shows Copenhagen to be in line with the world data until +/- 1850, after which the rise in temperatures seen in the world data is less in the Copenhagen data. Average temperature in Copenhagen stays consistently below world average temperatures from that point forward. Copenhagen being located relatively far to the north compared to the rest of the world, may account for this. However, Amsterdam being als relatively northerly is consistently above the world average temperature."
   ]
  }
 ],
 "metadata": {
  "kernelspec": {
   "display_name": "Python [conda env:Nanodegree]",
   "language": "python",
   "name": "conda-env-Nanodegree-py"
  },
  "language_info": {
   "codemirror_mode": {
    "name": "ipython",
    "version": 3
   },
   "file_extension": ".py",
   "mimetype": "text/x-python",
   "name": "python",
   "nbconvert_exporter": "python",
   "pygments_lexer": "ipython3",
   "version": "3.8.5"
  }
 },
 "nbformat": 4,
 "nbformat_minor": 4
}
